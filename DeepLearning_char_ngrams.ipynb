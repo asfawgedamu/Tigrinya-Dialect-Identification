{
  "cells": [
    {
      "cell_type": "markdown",
      "metadata": {
        "id": "view-in-github",
        "colab_type": "text"
      },
      "source": [
        "<a href=\"https://colab.research.google.com/github/asfawgedamu/Tigrinya-Dialect-Identification/blob/main/DeepLearning_char_ngrams.ipynb\" target=\"_parent\"><img src=\"https://colab.research.google.com/assets/colab-badge.svg\" alt=\"Open In Colab\"/></a>"
      ]
    },
    {
      "cell_type": "code",
      "execution_count": null,
      "id": "Ewk9fvtofG9n",
      "metadata": {
        "colab": {
          "background_save": true
        },
        "id": "Ewk9fvtofG9n"
      },
      "outputs": [],
      "source": [
        "import sys\n",
        "import os\n",
        "import re\n",
        "import random\n",
        "from collections import defaultdict\n",
        "import numpy as np\n",
        "import pandas as pd\n",
        "import matplotlib.pyplot as plt\n",
        "from nltk import ngrams\n",
        "\n",
        "# Import TensorFlow and Keras directly\n",
        "import tensorflow as tf\n",
        "from tensorflow.keras.models import Sequential\n",
        "from tensorflow.keras.layers import Dense, Dropout, Embedding, Bidirectional, LSTM, Conv1D, MaxPooling1D\n",
        "from tensorflow.keras.preprocessing.text import Tokenizer\n",
        "from tensorflow.keras.preprocessing.sequence import pad_sequences\n",
        "from tensorflow.keras.utils import to_categorical  # Corrected import\n",
        "\n",
        "# Fix random seed for reproducibility\n",
        "np.random.seed(7)\n",
        "random.seed(42)\n",
        "\n",
        "# Put the hyperparameters at the top like this to make it easier to change and edit.\n",
        "\n",
        "# Vectorization parameters\n",
        "max_features = 20000  # Limit on the number of features\n",
        "embedding_dim = 64  # Dimension of the embedding vectors\n",
        "max_length = 500  # Limit on the length of text sequences\n",
        "trunc_type = 'post'\n",
        "padding_type = 'post'\n",
        "oov_tok = '<OOV>'\n",
        "training_portion = .8\n",
        "num_classes = 3"
      ]
    },
    {
      "cell_type": "code",
      "source": [
        "!pip install python-docx\n",
        "from docx import Document\n",
        "from docx.shared import Pt\n",
        "from docx.enum.text import WD_PARAGRAPH_ALIGNMENT\n",
        "from google.colab import files\n",
        "\n",
        "# Create document\n",
        "doc = Document()\n",
        "\n",
        "# Add main heading\n",
        "main_heading = doc.add_heading('🎉 LinkedIn Post: \"How to Automate Birthday Wishes Like a Data Wizard (Feat. My Birthday SQL Party!)\"', 0)\n",
        "main_heading.alignment = WD_PARAGRAPH_ALIGNMENT.CENTER\n",
        "\n",
        "# Add subtitle\n",
        "doc.add_paragraph('Because why celebrate normally when you can over-engineer it with databases?', style='IntenseQuote')\n",
        "\n",
        "# Add section headers with formatting\n",
        "def add_section(title, content, code_blocks=[], tables=[]):\n",
        "    doc.add_heading(title, level=1)\n",
        "    doc.add_paragraph(content)\n",
        "\n",
        "    for code in code_blocks:\n",
        "        p = doc.add_paragraph()\n",
        "        p.add_run(code).font.name = 'Courier New'\n",
        "\n",
        "    for table_data in tables:\n",
        "        table = doc.add_table(rows=1, cols=len(table_data['headers']))\n",
        "        table.style = 'Table Grid'\n",
        "\n",
        "        # Add headers\n",
        "        hdr_cells = table.rows[0].cells\n",
        "        for i, header in enumerate(table_data['headers']):\n",
        "            hdr_cells[i].text = header\n",
        "\n",
        "        # Add rows\n",
        "        for row in table_data['rows']:\n",
        "            row_cells = table.add_row().cells\n",
        "            for i, value in enumerate(row):\n",
        "                row_cells[i].text = str(value)\n",
        "\n",
        "# Add Act 1: SQL Query\n",
        "add_section(\n",
        "    \"🚀 Act 1: The 'Cake or Error?' SQL Query\",\n",
        "    \"Goal: Fetch birthdays while dodging grumpy coworkers.\",\n",
        "    code_blocks=[\n",
        "        \"\"\"SELECT CONCAT(\n",
        "    '🎂 Happy Birthday, ', first_name, ' ', last_name,\n",
        "    '! Your ', TIMESTAMPDIFF(YEAR, birth_date, CURDATE()),\n",
        "    'th lap around the sun deserves ',\n",
        "    ELT(RAND()*4+1, 'cake 🍰', 'pizza 🍕', 'SQL jokes 😜', 'a raise (just kidding) 💸')\n",
        ") AS message\n",
        "FROM employees\n",
        "WHERE DATE_FORMAT(birth_date, '%m-%d') = DATE_FORMAT(NOW(), '%m-%d')\n",
        "AND is_grumpy = FALSE; -- Sorry, Grumpy Cat 🐱\"\"\"\n",
        "    ],\n",
        "    tables=[\n",
        "        {\n",
        "            'headers': ['user_id', 'first_name', 'last_name', 'birth_date', 'is_grumpy'],\n",
        "            'rows': [\n",
        "                (1, 'Asfaw', 'Gedamu', '1990-08-25', 'FALSE'),\n",
        "                (666, 'Grumpy', 'Cat', '2012-04-04', 'TRUE')\n",
        "            ]\n",
        "        }\n",
        "    ]\n",
        ")\n",
        "\n",
        "# Add Act 2: Trigger System\n",
        "add_section(\n",
        "    \"🤖 Act 2: The 'Trigger-Happy HR' Audit System\",\n",
        "    \"Goal: Log when HR ~accidentally~ changes your birth year.\",\n",
        "    code_blocks=[\n",
        "        \"\"\"DELIMITER $$\n",
        "CREATE TRIGGER birthdate_change_detector\n",
        "AFTER UPDATE ON employees\n",
        "FOR EACH ROW\n",
        "BEGIN\n",
        "  IF OLD.birth_date != NEW.birth_date THEN\n",
        "    INSERT INTO audit_log (message) VALUES (\n",
        "      CONCAT('HR changed ', NEW.first_name, '’s birthdate. Suspicions: ', RAND()*100, '%')\n",
        "    );\n",
        "  END IF;\n",
        "END$$\n",
        "DELIMITER ;\"\"\"\n",
        "    ],\n",
        "    tables=[\n",
        "        {\n",
        "            'headers': ['Audit Log Message'],\n",
        "            'rows': [\n",
        "                ['HR changed Asfaw’s birthdate. Suspicions: 42.69%']\n",
        "            ]\n",
        "        }\n",
        "    ]\n",
        ")\n",
        "\n",
        "# Add Act 3: Stored Procedure\n",
        "add_section(\n",
        "    \"⏰ Act 3: The 'Birthday Butler' Stored Procedure\",\n",
        "    \"Daily check for birthdays (like a polite robot).\",\n",
        "    code_blocks=[\n",
        "        \"\"\"CREATE PROCEDURE DailyBirthdayCheck()\n",
        "BEGIN\n",
        "  DECLARE today VARCHAR(5);\n",
        "  SET today = DATE_FORMAT(NOW(), '%m-%d');\n",
        "\n",
        "  SELECT CONCAT('🎉 ', first_name, ' ', last_name) AS birthday_kid\n",
        "  FROM employees\n",
        "  WHERE DATE_FORMAT(birth_date, '%m-%d') = today\n",
        "  AND is_grumpy = FALSE;\n",
        "END;\"\"\",\n",
        "        \"\"\"# Cron Job (runs daily at 9 AM ☕)\n",
        "0 9 * * * mysql -u root -p\"secret\" -e \"CALL DailyBirthdayCheck();\" \"\"\"\n",
        "    ]\n",
        ")\n",
        "\n",
        "# Add Gratitude Section\n",
        "add_section(\n",
        "    \"💌 Act 4: Gratitude Engine for LinkedIn Squad\",\n",
        "    \"\",\n",
        "    tables=[\n",
        "        {\n",
        "            'headers': ['Sender', 'Time', 'Message'],\n",
        "            'rows': [\n",
        "                ['Alo Olatokunboh Akin', '12:12 PM', 'Wishing you a very happy birthday...'],\n",
        "                ['Ram Tippireddy', '12:00 PM', 'Wishing you a very happy birthday!'],\n",
        "                # Add all other messages here\n",
        "            ]\n",
        "        }\n",
        "    ]\n",
        ")\n",
        "\n",
        "# Save and download\n",
        "doc.save('birthday_post.docx')\n",
        "files.download('birthday_post.docx')\n",
        "\n",
        "print(\"🎉 Document downloaded successfully! Happy birthday! 🥳\")"
      ],
      "metadata": {
        "colab": {
          "base_uri": "https://localhost:8080/",
          "height": 265
        },
        "id": "0bX0z-Pgu36m",
        "outputId": "c42821d1-cb9f-46d2-c781-3fa1c70825c3"
      },
      "id": "0bX0z-Pgu36m",
      "execution_count": null,
      "outputs": [
        {
          "output_type": "stream",
          "name": "stdout",
          "text": [
            "Collecting python-docx\n",
            "  Downloading python_docx-1.1.2-py3-none-any.whl.metadata (2.0 kB)\n",
            "Collecting lxml>=3.1.0 (from python-docx)\n",
            "  Downloading lxml-5.3.0-cp311-cp311-manylinux_2_28_x86_64.whl.metadata (3.8 kB)\n",
            "Requirement already satisfied: typing-extensions>=4.9.0 in /usr/local/lib/python3.11/dist-packages (from python-docx) (4.12.2)\n",
            "Downloading python_docx-1.1.2-py3-none-any.whl (244 kB)\n",
            "\u001b[2K   \u001b[90m━━━━━━━━━━━━━━━━━━━━━━━━━━━━━━━━━━━━━━━━\u001b[0m \u001b[32m244.3/244.3 kB\u001b[0m \u001b[31m3.7 MB/s\u001b[0m eta \u001b[36m0:00:00\u001b[0m\n",
            "\u001b[?25hDownloading lxml-5.3.0-cp311-cp311-manylinux_2_28_x86_64.whl (5.0 MB)\n",
            "\u001b[2K   \u001b[90m━━━━━━━━━━━━━━━━━━━━━━━━━━━━━━━━━━━━━━━━\u001b[0m \u001b[32m5.0/5.0 MB\u001b[0m \u001b[31m57.6 MB/s\u001b[0m eta \u001b[36m0:00:00\u001b[0m\n",
            "\u001b[?25hInstalling collected packages: lxml, python-docx\n",
            "Successfully installed lxml-5.3.0 python-docx-1.1.2\n"
          ]
        },
        {
          "output_type": "stream",
          "name": "stderr",
          "text": [
            "/usr/local/lib/python3.11/dist-packages/docx/styles/styles.py:130: UserWarning: style lookup by style_id is deprecated. Use style name as key instead.\n",
            "  return self._get_style_id_from_style(self[style_name], style_type)\n"
          ]
        },
        {
          "output_type": "display_data",
          "data": {
            "text/plain": [
              "<IPython.core.display.Javascript object>"
            ],
            "application/javascript": [
              "\n",
              "    async function download(id, filename, size) {\n",
              "      if (!google.colab.kernel.accessAllowed) {\n",
              "        return;\n",
              "      }\n",
              "      const div = document.createElement('div');\n",
              "      const label = document.createElement('label');\n",
              "      label.textContent = `Downloading \"${filename}\": `;\n",
              "      div.appendChild(label);\n",
              "      const progress = document.createElement('progress');\n",
              "      progress.max = size;\n",
              "      div.appendChild(progress);\n",
              "      document.body.appendChild(div);\n",
              "\n",
              "      const buffers = [];\n",
              "      let downloaded = 0;\n",
              "\n",
              "      const channel = await google.colab.kernel.comms.open(id);\n",
              "      // Send a message to notify the kernel that we're ready.\n",
              "      channel.send({})\n",
              "\n",
              "      for await (const message of channel.messages) {\n",
              "        // Send a message to notify the kernel that we're ready.\n",
              "        channel.send({})\n",
              "        if (message.buffers) {\n",
              "          for (const buffer of message.buffers) {\n",
              "            buffers.push(buffer);\n",
              "            downloaded += buffer.byteLength;\n",
              "            progress.value = downloaded;\n",
              "          }\n",
              "        }\n",
              "      }\n",
              "      const blob = new Blob(buffers, {type: 'application/binary'});\n",
              "      const a = document.createElement('a');\n",
              "      a.href = window.URL.createObjectURL(blob);\n",
              "      a.download = filename;\n",
              "      div.appendChild(a);\n",
              "      a.click();\n",
              "      div.remove();\n",
              "    }\n",
              "  "
            ]
          },
          "metadata": {}
        },
        {
          "output_type": "display_data",
          "data": {
            "text/plain": [
              "<IPython.core.display.Javascript object>"
            ],
            "application/javascript": [
              "download(\"download_5bb9a41e-71d9-4082-89dc-711b6df39bb6\", \"birthday_post.docx\", 38148)"
            ]
          },
          "metadata": {}
        },
        {
          "output_type": "stream",
          "name": "stdout",
          "text": [
            "🎉 Document downloaded successfully! Happy birthday! 🥳\n"
          ]
        }
      ]
    },
    {
      "cell_type": "code",
      "source": [
        "# Step 1: Install the python-docx library\n",
        "!pip install python-docx\n",
        "\n",
        "# Step 2: Import necessary libraries\n",
        "from docx import Document\n",
        "from google.colab import files\n",
        "\n",
        "# Step 3: Create a new Document\n",
        "doc = Document()\n",
        "\n",
        "# Step 4: Add a title\n",
        "doc.add_heading('Automating Birthday Greetings with SQL and Python', level=1)\n",
        "\n",
        "# Step 5: Add introduction\n",
        "doc.add_paragraph(\n",
        "    \"In this document, we'll explore how companies can automate birthday greetings \"\n",
        "    \"using SQL stored procedures and scheduling tools like cron. This ensures employees \"\n",
        "    \"feel valued and appreciated on their special day.\"\n",
        ")\n",
        "\n",
        "# Step 6: Add a section for Automating Birthday Greetings\n",
        "doc.add_heading('1. Automating Birthday Greetings', level=2)\n",
        "\n",
        "# Step 7: Add subsection for Sample Input Data\n",
        "doc.add_heading('A. Sample Input Data', level=3)\n",
        "doc.add_paragraph(\n",
        "    \"Consider a table named 'users' with the following structure:\"\n",
        ")\n",
        "\n",
        "# Step 8: Add a table for sample input data\n",
        "table = doc.add_table(rows=1, cols=4)\n",
        "hdr_cells = table.rows[0].cells\n",
        "hdr_cells[0].text = 'user_id'\n",
        "hdr_cells[1].text = 'first_name'\n",
        "hdr_cells[2].text = 'last_name'\n",
        "hdr_cells[3].text = 'date_of_birth'\n",
        "sample_data = [\n",
        "    (1, 'John', 'Doe', '1990-01-31'),\n",
        "    (2, 'Jane', 'Smith', '1985-02-15'),\n",
        "    (3, 'Asfaw', 'Gedamu', '1975-01-31')\n",
        "]\n",
        "for user_id, first_name, last_name, dob in sample_data:\n",
        "    row_cells = table.add_row().cells\n",
        "    row_cells[0].text = str(user_id)\n",
        "    row_cells[1].text = first_name\n",
        "    row_cells[2].text = last_name\n",
        "    row_cells[3].text = dob\n",
        "\n",
        "# Step 9: Add subsection for Stored Procedure\n",
        "doc.add_heading('B. Stored Procedure', level=3)\n",
        "doc.add_paragraph(\n",
        "    \"We'll create a stored procedure that identifies users whose birthday is today and returns their names:\"\n",
        ")\n",
        "stored_procedure_code = \"\"\"\n",
        "DELIMITER //\n",
        "\n",
        "CREATE PROCEDURE GetTodaysBirthdays()\n",
        "BEGIN\n",
        "    SELECT CONCAT('Happy Birthday, ', first_name, ' ', last_name, '!') AS birthday_message\n",
        "    FROM users\n",
        "    WHERE DATE_FORMAT(date_of_birth, '%m-%d') = DATE_FORMAT(CURDATE(), '%m-%d');\n",
        "END //\n",
        "\n",
        "DELIMITER ;\n",
        "\"\"\"\n",
        "doc.add_paragraph(stored_procedure_code, style='Code')\n",
        "\n",
        "# Step 10: Add subsection for Scheduling with Cron\n",
        "doc.add_heading('C. Scheduling with Cron', level=3)\n",
        "doc.add_paragraph(\n",
        "    \"To automate the execution of this procedure daily, we can use a cron job that runs a script at a specified time. \"\n",
        "    \"Assuming we're using MySQL, the script ('birthday_wishes.sh') might look like this:\"\n",
        ")\n",
        "cron_script = \"\"\"\n",
        "#!/bin/bash\n",
        "mysql -u [username] -p[password] -e \"CALL GetTodaysBirthdays();\" > birthday_messages.txt\n",
        "\"\"\"\n",
        "doc.add_paragraph(cron_script, style='Code')\n",
        "doc.add_paragraph(\n",
        "    \"Make the script executable:\"\n",
        ")\n",
        "chmod_command = \"chmod +x birthday_wishes.sh\"\n",
        "doc.add_paragraph(chmod_command, style='Code')\n",
        "doc.add_paragraph(\n",
        "    \"Then, set up a cron job to run the script daily at a specific time (e.g., 9 AM):\"\n",
        ")\n",
        "cron_job = \"0 9 * * * /path/to/birthday_wishes.sh\"\n",
        "doc.add_paragraph(cron_job, style='Code')\n",
        "\n",
        "# Step 11: Add subsection for Sample Output\n",
        "doc.add_heading('D. Sample Output', level=3)\n",
        "doc.add_paragraph(\n",
        "    \"If today is January 31st, the output ('birthday_messages.txt') would be:\"\n",
        ")\n",
        "sample_output = \"\"\"\n",
        "Happy Birthday, John Doe!\n",
        "Happy Birthday, Asfaw Gedamu!\n",
        "\"\"\"\n",
        "doc.add_paragraph(sample_output, style='Code')\n",
        "\n",
        "# Step 12: Add a section for Expressing Gratitude for Birthday Wishes\n",
        "doc.add_heading('2. Expressing Gratitude for Birthday Wishes', level=2)\n",
        "doc.add_paragraph(\n",
        "    \"To acknowledge and thank connections who have sent birthday wishes, we can analyze the messages received.\"\n",
        ")\n",
        "\n",
        "# Step 13: Add subsection for Sample Input Data (LinkedIn Messages Table)\n",
        "doc.add_heading('A. Sample Input Data (LinkedIn Messages Table)', level=3)\n",
        "linkedin_table = doc.add_table(rows=1, cols=3)\n",
        "hdr_cells = linkedin_table.rows[0].cells\n",
        "hdr_cells[0].text = 'sender_name'\n",
        "hdr_cells[1].text = 'message_time'\n",
        "hdr_cells[2].text = 'message_content'\n",
        "linkedin_data = [\n",
        "    ('Alo Olatokunboh Akin', '12:12 PM', 'Wishing you a very happy birthday...'),\n",
        "    ('Ram Tippireddy', '12:00 PM', 'Wishing you a very happy birthday!'),\n",
        "    ('Rediet Dege', '11:27 AM', 'Wishing you a very happy birthday!'),\n",
        "    ('Tikaw Hagos', '11:16 AM', 'Happy birthday!'),\n",
        "    ('Steve Innovations Kenya', '10:12 AM', 'Wishing you a very happy birthday!'),\n",
        "    ('Bahiru G.Awol', '09:22 AM', 'Wishing you a very happy birthday!'),\n",
        "    ('Lemmi Lemma', '08:49 AM', 'Wishing you a very happy birthday!'),\n",
        "    ('Mark Engstar', '08:41 AM', 'Happy Birthday!'),\n",
        "    ('Alapati Sai Srikanth', '07:53 AM', 'Many happy returns of the day Asfaw...'),\n",
        "    ('Chuku Una', '06:44 AM', 'Happy Birthday Asfaw! May God bless yo...'),\n",
        "    ('Dattaram Choudhari', '05:45 AM', 'Wishing you a very happy birthday!'),\n",
        "    ('Ajay Pandit', '05:45 AM', 'Happy birthday')\n",
        "]\n",
        "for sender_name, message_time, message_content in linkedin_data:\n",
        "    row_cells = linkedin_table.add_row().cells\n",
        "    row_cells[0].text = sender_name\n",
        "    row_cells[1].text = message_time\n",
        "    row_cells[2].text = message_content\n",
        "\n",
        "# Step 14: Add subsection for Gratitude Query\n",
        "doc.add_heading('B. Gratitude Query', level=3)\n",
        "doc.add_paragraph(\n",
        "    \"To generate a summary of received birthday\n",
        "::contentReference[oaicite:0]{index=0}\n",
        "\n"
      ],
      "metadata": {
        "id": "jJhaSuTtvS10",
        "outputId": "8952a2ee-51aa-4ee9-f328-3322a4a07175",
        "colab": {
          "base_uri": "https://localhost:8080/",
          "height": 108
        }
      },
      "id": "jJhaSuTtvS10",
      "execution_count": null,
      "outputs": [
        {
          "output_type": "error",
          "ename": "SyntaxError",
          "evalue": "unterminated string literal (detected at line 137) (<ipython-input-2-c09d4a5310dc>, line 137)",
          "traceback": [
            "\u001b[0;36m  File \u001b[0;32m\"<ipython-input-2-c09d4a5310dc>\"\u001b[0;36m, line \u001b[0;32m137\u001b[0m\n\u001b[0;31m    \"To generate a summary of received birthday\u001b[0m\n\u001b[0m    ^\u001b[0m\n\u001b[0;31mSyntaxError\u001b[0m\u001b[0;31m:\u001b[0m unterminated string literal (detected at line 137)\n"
          ]
        }
      ]
    },
    {
      "cell_type": "code",
      "execution_count": null,
      "id": "16b644de",
      "metadata": {
        "id": "16b644de"
      },
      "outputs": [],
      "source": [
        "#pip install graphviz\n"
      ]
    },
    {
      "cell_type": "code",
      "execution_count": null,
      "id": "L3ngPwjttj-O",
      "metadata": {
        "id": "L3ngPwjttj-O"
      },
      "outputs": [],
      "source": [
        "\n",
        "from google.colab import auth\n",
        "auth.authenticate_user()\n",
        "\n"
      ]
    },
    {
      "cell_type": "code",
      "execution_count": null,
      "id": "FjJ849dcFBa2",
      "metadata": {
        "colab": {
          "base_uri": "https://localhost:8080/",
          "height": 72
        },
        "id": "FjJ849dcFBa2",
        "outputId": "9b7f6075-c41a-4053-aeeb-fa11cc42fea9"
      },
      "outputs": [
        {
          "data": {
            "application/vnd.google.colaboratory.intrinsic+json": {
              "type": "string"
            },
            "text/plain": [
              "'\\'#@title\\n# Libraries for data manipulation and visualization\\nfrom google.colab import files\\n\\nuploaded = files.upload()\\n\\nfor fn in uploaded.keys():\\n  print(\\'User uploaded file \"{name}\" with length {length} bytes\\'.format(\\n      name=fn, length=len(uploaded[fn])))'"
            ]
          },
          "execution_count": 4,
          "metadata": {},
          "output_type": "execute_result"
        }
      ],
      "source": [
        "''''#@title\n",
        "# Libraries for data manipulation and visualization\n",
        "from google.colab import files\n",
        "\n",
        "uploaded = files.upload()\n",
        "\n",
        "for fn in uploaded.keys():\n",
        "  print('User uploaded file \"{name}\" with length {length} bytes'.format(\n",
        "      name=fn, length=len(uploaded[fn])))'''\n",
        "\n",
        "\n",
        "\n",
        "\n"
      ]
    },
    {
      "cell_type": "code",
      "execution_count": null,
      "id": "TbA2TboVz_25",
      "metadata": {
        "colab": {
          "base_uri": "https://localhost:8080/"
        },
        "id": "TbA2TboVz_25",
        "outputId": "3c2b6d95-eec9-452a-bd3a-c216e16d6596"
      },
      "outputs": [
        {
          "name": "stdout",
          "output_type": "stream",
          "text": [
            "Mounted at /content/gdrive\n"
          ]
        }
      ],
      "source": [
        "#Start by connecting gdrive into the google colab\n",
        "\n",
        "from google.colab import drive\n",
        "drive.mount('/content/gdrive')"
      ]
    },
    {
      "cell_type": "code",
      "execution_count": null,
      "id": "lfJ8Ujw8y-UN",
      "metadata": {
        "id": "lfJ8Ujw8y-UN"
      },
      "outputs": [],
      "source": [
        "#Start by connecting gdrive into the google colab\n",
        "\n",
        "import os\n",
        "os.chdir (\"/content/gdrive/MyDrive/\")"
      ]
    },
    {
      "cell_type": "code",
      "execution_count": null,
      "id": "ObTAXoWg0Lns",
      "metadata": {
        "colab": {
          "base_uri": "https://localhost:8080/"
        },
        "id": "ObTAXoWg0Lns",
        "outputId": "a09e2898-63a9-46dc-a37e-5596ce11ed61"
      },
      "outputs": [
        {
          "name": "stdout",
          "output_type": "stream",
          "text": [
            "ls: /content/gdrive/MyDrive/Thesis: No such file or directory\n",
            "total 703853\n",
            "-rw------- 1 root root     63032 Mar 15  2024  003.docx\n",
            "-rw------- 1 root root     55525 Mar 10  2024 '01 ኣስፋው ገዳሙ .docx'\n",
            "-rw------- 1 root root     33030 Mar 12  2024 '03 Asfaw G (1).docx'\n",
            "-rw------- 1 root root     33030 Mar 12  2024 '03 Asfaw G.docx'\n",
            "-rw------- 1 root root  10127573 Aug 12  2022  ____10______Final.pdf\n",
            "-rw------- 1 root root   1205760 Sep  1  2019  1_IR_intro.ppt\n",
            "-rw------- 1 root root   1807527 Nov  1  2022  20221101_121050.jpg\n",
            "-rw------- 1 root root   2837780 Dec  4  2022  20221204_120833_mfnr.jpg\n",
            "-rw------- 1 root root   1345536 Sep  1  2019 '2_text operation.ppt'\n",
            "-rw------- 1 root root   1504256 Sep  1  2019  3_termWeighting.ppt\n",
            "-rw------- 1 root root   3445071 Apr 17  2021  4_5976689323028776928.pdf\n",
            "-rw------- 1 root root   1160192 Sep  1  2019 '4_ Indexing.ppt'\n",
            "-rw------- 1 root root   1425920 Sep  1  2019  5_IRModels.ppt\n",
            "-rw------- 1 root root   1172992 Sep  1  2019 '6_Retrieval Evaluation.ppt'\n",
            "-rw------- 1 root root   1036800 Sep  1  2019 '7_Query languages.ppt'\n",
            "-rw------- 1 root root  11608023 Jun 10  2021  Abyssinia-The-Powder-Barrel.pdf\n",
            "-rw------- 1 root root     78772 May 26  2017 'Adi Aleza.jpg'\n",
            "-rw------- 1 root root       171 May  6  2023 ' AfricaNLP2023 Workshop.gdoc'\n",
            "-rw------- 1 root root       127 Jan 12  2023 'An untitled mindmap'\n",
            "drwx------ 2 root root      4096 Sep  2  2022 'application process'\n",
            "-rw------- 1 root root    366569 Jan  9  2024  Asfaw-CV-10-01-2024.pdf\n",
            "-rw------- 1 root root    404576 Feb 20  2024  Asfaw_CV_Feb_2024.pdf\n",
            "-rw------- 1 root root    307848 Jan  5  2024  Asfaw-Gedamu-CV-05-01-2024.pdf\n",
            "-rw------- 1 root root   1048187 Jan  9  2023  Asfaw-Gedamu-cv.pdf\n",
            "-rw------- 1 root root       171 Nov 22 19:11  Asgh.gdoc\n",
            "drwx------ 2 root root      4096 Jan 29  2021  Asme\n",
            "drwx------ 2 root root      4096 Aug  5  2022  Assessments\n",
            "-rw------- 1 root root       171 Nov  9  2021  audit.gdoc\n",
            "drwx------ 2 root root      4096 Jan 16  2023 'Basic web services'\n",
            "-rw------- 1 root root  17522992 Sep 18  2021  best_BiLSTM_checkpoint.hdf5\n",
            "-rw------- 1 root root  16378880 Sep 22  2021  best_CNN-BiLSTM_checkpoint.hdf5\n",
            "-rw------- 1 root root  16056864 Sep 22  2021  best_CNN_checkpoint.hdf5\n",
            "-rw------- 1 root root   1083468 May  6  2014  Bewketu_Seyoum_God_and_Ethiopian_Civilization.pdf\n",
            "-rw------- 1 root root     57940 Sep 18  2021  BiLSTM_model_plot.png\n",
            "drwx------ 2 root root      4096 Sep  4  2022  Bjournalism\n",
            "drwx------ 2 root root      4096 Sep  4  2022  Blog\n",
            "-rw------- 1 root root 479546957 Oct 21  2020  Blog.rar\n",
            "drwx------ 2 root root      4096 Aug 28  2020  Books\n",
            "drwx------ 2 root root      4096 May  2  2020  Classroom\n",
            "-rw------- 1 root root    103316 Sep 22  2021  CNN-BiLSTM_model_plot.png\n",
            "-rw------- 1 root root  16055864 Sep  8  2021  cnn_checkpoint.hdf5\n",
            "-rw------- 1 root root     79845 Sep 22  2021  CNN_model_plot.png\n",
            "drwx------ 2 root root      4096 Jan 16  2023 'Co-building information Security culture'\n",
            "drwx------ 2 root root      4096 Aug  4  2020  code\n",
            "drwx------ 2 root root      4096 Apr 12  2023  CoinbaseWalletBackups\n",
            "drwx------ 2 root root      4096 Sep  6  2021 'Colab Notebooks'\n",
            "drwx------ 2 root root      4096 Sep  4  2021  ColabNotebooks\n",
            "-rw------- 1 root root   1516732 May  2  2014 'Communication Theories D. A..pptx'\n",
            "drwx------ 2 root root      4096 Mar 15  2022  Conferences\n",
            "-rw------- 1 root root       171 Aug  5  2022 'Contact Information (1).gform'\n",
            "-rw------- 1 root root       171 Aug  5  2022 'Contact Information.gform'\n",
            "-rw------- 1 root root     89798 Dec 23  2017  Contacts.vcf\n",
            "-rw------- 1 root root       171 Mar 10  2021 'Copy of verification_task_mokshe.gsheet'\n",
            "-r-------- 1 root root     96236 Sep 17  2021 'COURSE CURRICULUM - Advanced Data Analytics using Python and Python Automation Course (40 Hours).pdf'\n",
            "-r-------- 1 root root  56423124 Nov 14 04:15 'Cracking the Coding Interview.pdf'\n",
            "drwx------ 2 root root      4096 May 19  2023  credit-card-fraud-detection\n",
            "drwx------ 2 root root      4096 Jan 16  2023 'Cyber Security'\n",
            "lrw------- 1 root root         0 Aug  3 16:17 'Daniel Kibret  s New book.pdf' -> '/content/gdrive/ '\n",
            "drwx------ 2 root root      4096 Oct 19  2020  data\n",
            "-rw------- 1 root root       171 May 20  2023 'Deep Learning Networks.gslides'\n",
            "drwx------ 2 root root      4096 Jun 23  2022  Degrees\n",
            "-rw------- 1 root root     63756 May 26  2017 'Della Edaga BiEray.jpg'\n",
            "-rw------- 1 root root     81857 May 26  2017 'Della Edaga Kedam.jpg'\n",
            "-rw------- 1 root root     86735 May 26  2017 'Della Ketema.jpg'\n",
            "drwx------ 2 root root      4096 Jan 16  2023  Devops\n",
            "-rw------- 1 root root       171 Mar 31  2021  Dialects_Ti.gsheet\n",
            "-rw------- 1 root root    101090 May 26  2017  Durgimza.jpg\n",
            "-rw------- 1 root root       171 Jul 18  2023 'educational links.gdoc'\n",
            "drwx------ 2 root root      4096 Jun 25  2022  Epic\n",
            "-rw------- 1 root root    341504 Dec 30  2017  eprdf-statement-123017.pdf\n",
            "-rw------- 1 root root    446169 Jun 21  2020  FCG_Asfaw_Gedamu.pdf\n",
            "drwx------ 2 root root      4096 Jan 16  2023 'Final Version ITIO'\n",
            "-rw------- 1 root root       171 May 26  2023 'give me 10 funniest and most entertaining facts about telecommunications and explain them in a fascinating way that goes viral on social media. use iso standard units to describe distance and weight..gdoc'\n",
            "-r-------- 1 root root       171 Mar 10  2023 'Harvard CS197: AI Research Experiences – The Course Book.gdoc'\n",
            "drwx------ 2 root root      4096 Sep 23  2021  helloworld\n",
            "-rw------- 1 root root       171 Jun 24  2023 'How do you relate the King Midas touch with Technological singularity?  .gdoc'\n",
            "-rw------- 1 root root       171 Jul 21  2023 'if we need to move from Oracle to non-Oracle database, which DB would you recommend? PostgreSQL, MySQL or MS Sql Server? Please reason out professionally,. .gsheet'\n",
            "-rw------- 1 root root       171 Jul 21  2023 'if we need to move from Oracle to non-Oracle database, which DB would you recommend? PostgreSQL, MySQL or MS Sql Server? Pl~ionally by comparing and contrasting the databases in terms of learning curve, budge, technical expertise and applications..gsheet'\n",
            "-rw------- 1 root root       171 Jul 21  2023 'if we need to move from Oracle to non-Oracle database, which DB would you recommend? PostgreSQL, MySQL or MS Sql Server? Pl~lly by comparing and contrasting the databases in terms of learning curve, budge, technical expertise and applications. (1).gsheet'\n",
            "-rw------- 1 root root       171 Jul 21  2023 'if we need to move from Oracle to non-Oracle database, which DB would you recommend? PostgreSQL, MySQL or MS Sql Server? Pl~lly by comparing and contrasting the databases in terms of learning curve, budge, technical expertise and applications. (2).gsheet'\n",
            "-rw------- 1 root root       171 Jul 21  2023 'if we need to move from Oracle to non-Oracle database, which DB would you recommend? PostgreSQL, MySQL or MS Sql Server? Pl~lly by comparing and contrasting the databases in terms of learning curve, budge, technical expertise and applications. (3).gsheet'\n",
            "-rw------- 1 root root       171 Jul 21  2023 'if we need to move from Oracle to non-Oracle database, which DB would you recommend? PostgreSQL, MySQL or MS Sql Server? Pl~lly by comparing and contrasting the databases in terms of learning curve, budge, technical expertise and applications. (4).gsheet'\n",
            "-rw------- 1 root root       171 Jul 21  2023 'if we need to move from relational to non-relational databases, which DB would you recommend? PostgreSQL, MySQL or MS Sql S~ionally by comparing and contrasting the databases in terms of learning curve, budge, technical expertise and applications..gsheet'\n",
            "-rw------- 1 root root   2872826 Jan 10  2022  IMG_20220110_190324.jpg\n",
            "drwx------ 2 root root      4096 Sep  4  2022 'Information_science - Copy'\n",
            "drwx------ 2 root root      4096 Mar 17  2022  IS_Projects\n",
            "drwx------ 2 root root      4096 Aug 12  2022  Java\n",
            "-rw------- 1 root root     55540 May 26  2017 'Keren Ferashi.jpg'\n",
            "-rw------- 1 root root       100 Sep 19 07:18 'Linux System Administration'\n",
            "-r-------- 1 root root       171 Dec 28  2020 'List of tools for MLOps_v1_April 2020.gsheet'\n",
            "-rw------- 1 root root     21495 Dec 13  2022 'Machine Learning(ML)'\n",
            "-rw------- 1 root root  27535475 Feb 15  2019  Major_Sources.rar\n",
            "-rw------- 1 root root     54003 May 26  2017 'Mariam Della.jpg'\n",
            "drwx------ 2 root root      4096 Jun 18  2018  Mavids\n",
            "-rw------- 1 root root    206486 Jun 21  2020 'Maximum Likelihood Estimation.pdf'\n",
            "-rw------- 1 root root   2824621 Nov  3  2021 'McNurlin, Sprague, Bui-IS Management (2014).pdf'\n",
            "-rw------- 1 root root    178179 May 26  2017 'Meida Mesgi to Maiqiltsim.jpg'\n",
            "drwx------ 2 root root      4096 Aug 21  2022  Meles\n",
            "drwx------ 2 root root      4096 Jun  9  2021  merged_combined\n",
            "drwx------ 2 root root      4096 May 19  2021  merged_sources\n",
            "-rw------- 1 root root     54735 Apr 20  2017  messages.am\n",
            "drwx------ 2 root root      4096 Sep 16 03:24  meta-2024-Sep-15-21-34-13\n",
            "drwx------ 2 root root      4096 Dec  8  2022  MindMap\n",
            "drwx------ 2 root root      4096 Sep 23  2021  my_dir\n",
            "drwx------ 2 root root      4096 Jun 28  2024  news_snippets\n",
            "-rw------- 1 root root    269366 Jun 21  2020 'N-Gram and Maximum Likelihood Estimation Asfaw Gedamu.pdf'\n",
            "-rw------- 1 root root       171 Mar 31  2021  North_vs_South_Tigrinya_updated.gsheet\n",
            "drwx------ 2 root root      4096 Aug 30  2021  Notes\n",
            "-rw------- 1 root root       171 Jan  6  2017 'On Feminism & PR.ppt.gslides'\n",
            "-rw------- 1 root root    485923 Jan 17  2018  open-letter-to-DrDebretsion-tplf-chairman.pdf\n",
            "-rw------- 1 root root     25089 Dec  8  2018  Paper_Summary_Assignment_Asfaw_Gedamu.docx\n",
            "-rw------- 1 root root       171 Aug  5  2022 'Party Invite.gform'\n",
            "-rw------- 1 root root  33344505 Oct 21  2020  personal_Docs.zip\n",
            "-rw------- 1 root root     93386 Jan 12  2024  photo_2024-01-12_17-34-34.jpg\n",
            "-rw------- 1 root root       171 Jan 29  2024 'Please prepare a summarized table that shows the 50 biggest social media platforms, year of founding, and the year profitab~ and In August 2004, LinkedIn reached 1 million users. In March 2006, LinkedIn achieved its first month of profitability. .gsheet'\n",
            "-rw------- 1 root root       171 Jan 10  2024 'Please provide and Overview of product development (TTM phases) and RASCI (1).gsheet'\n",
            "-rw------- 1 root root       171 Jan 10  2024 'Please provide and Overview of product development (TTM phases) and RASCI.gsheet'\n",
            "-rw------- 1 root root       171 Jan 17  2024 'Please provide an Overview of product development (TTM phases) and RASCI. Include the typies of product testing in each phase. '$'\\n''.gsheet'\n",
            "-rw------- 1 root root       171 Jan 17  2024 'Please provide an Overview of product development (TTM phases: Ideation and concept, planning and requirements, design and ~ity assurance, launch and rollout, maintenance and growth) and RASCI. Include the typies of product testing in each phase. .gsheet'\n",
            "-rw------- 1 root root      2352 Dec 27  2023 'Product testing '\n",
            "-rw------- 1 root root     17465 Jan 11  2024 'Product Testing'\n",
            "-rw------- 1 root root     21375 Jan 11  2024 'Product Testing.pdf'\n",
            "-rw------- 1 root root      5491 Dec 28  2023 'Product Testing updated'\n",
            "drwx------ 2 root root      4096 Jan 29  2024  proskils\n",
            "-rw------- 1 root root     65103 May 26  2017 'Qebtsiya Monastry.jpg'\n",
            "-rw------- 1 root root       171 Oct 18  2020  Resume.gdoc\n",
            "-rw------- 1 root root       171 Sep 29  2022 'Scholarship links.gdoc'\n",
            "-rw------- 1 root root       100 Sep 19 13:35 'Software Development Frameworks'\n",
            "-rw------- 1 root root     96063 Jul 26  2023 'SQL Server 2019 Diagnostic Information Queries.sql'\n",
            "-rw------- 1 root root       171 Oct 16  2009  status.gsheet\n",
            "-rw------- 1 root root       171 Oct 18  2020 'Summary - Knowledge Science -Modeling the Knowledge Creation Process.gdoc'\n",
            "drwx------ 2 root root      4096 Jan 23  2021  Takeout\n",
            "-rw------- 1 root root     38429 Apr 26  2021 'task_01 Edited.docx'\n",
            "drwx------ 2 root root      4096 May 19  2023  telecom-customer-churn\n",
            "-rw------- 1 root root     40527 Sep 13 12:05 'TExA_IS Offers section_Attendance follow up May 15 - June 14 2024.xlsx'\n",
            "lrw------- 1 root root         0 Sep 19  2021  Thesis -> /content/gdrive/.shortcut-targets-by-id/15SwmMal_md7FiV8-9Sgmk-HzXNJxQS-x/Thesis\n",
            "-rw------- 1 root root     14227 Sep 28  2021 'Thesis Defense Schedule.xlsx'\n",
            "-rw------- 1 root root       159 Nov  2 23:36 'Tigray and Afar.gmap'\n",
            "drwx------ 2 root root      4096 Apr 19  2023 'Tigrinya Dialect Identification'\n",
            "-rw------- 1 root root       171 Aug  5  2022 'T-Shirt Sign Up.gform'\n",
            "-rw------- 1 root root       171 Jan 21  2023 'Untitled document (1).gdoc'\n",
            "-rw------- 1 root root       171 Aug 30  2021 'Untitled document (2).gdoc'\n",
            "-rw------- 1 root root       171 Apr 17  2023 'Untitled document.gdoc'\n",
            "-rw------- 1 root root       171 Jan 12  2022 'Untitled drawing.gdraw'\n",
            "-rw------- 1 root root       171 Nov 26 11:40 'Untitled presentation.gslides'\n",
            "-rw------- 1 root root       184 Aug  5  2021 'Untitled project.gscript'\n",
            "-rw------- 1 root root       171 Nov 17  2010 'vc traffic & revenue per week.gsheet'\n",
            "-rw------- 1 root root    823213 Dec 13  2020  verification_task_forms_checked.xlsx\n",
            "-rw------- 1 root root   2841708 Dec 22  2020  verification_task_mokshe_sofar.xlsx\n",
            "-rw------- 1 root root       171 May 30  2023 'What are the best online surveying tools for sales and marketing professionals? Online surveys can be conducted using survey monkey, Google Docs and others. Give me five top online surveying tools and evaluate their strengths and weaknesses..gdoc'\n",
            "-rw------- 1 root root       171 Mar  3  2024 'What are the core differences between SQL and No-....gsheet'\n",
            "-rw------- 1 root root       171 Jan 31  2024 'What are the main differences between Oracle DB partitioning and PostgreSQL DB partitioning? Please provide your response in tables and graphs..gsheet'\n",
            "-rw------- 1 root root       171 Jun  7  2023 'What are the six levels of automation that CSPs envision to achieve?.gdoc'\n",
            "-rw------- 1 root root       171 Jan 18  2023 'ኣከባብራ ብዓል ጥምቀት.gdoc'\n",
            "-rw------- 1 root root    314327 May 27  2016 'የዝግጅቱ ርእስ፡-ፈለገ ጥበብ.docx'\n",
            "-r-------- 1 root root   1046231 Nov 16  2022  ገነቲና.pdf\n"
          ]
        }
      ],
      "source": [
        "!ls -l /content/gdrive/MyDrive/\n"
      ]
    },
    {
      "cell_type": "code",
      "execution_count": null,
      "id": "oVTwScUV3UjC",
      "metadata": {
        "id": "oVTwScUV3UjC"
      },
      "outputs": [],
      "source": [
        "!cd ColabNotebooks"
      ]
    },
    {
      "cell_type": "code",
      "execution_count": null,
      "id": "EEk8reZp47LB",
      "metadata": {
        "colab": {
          "base_uri": "https://localhost:8080/"
        },
        "id": "EEk8reZp47LB",
        "outputId": "aad85d2f-057c-4c41-ef5d-825cf88bbf79"
      },
      "outputs": [
        {
          "name": "stdout",
          "output_type": "stream",
          "text": [
            "'all_source111 (1).gsheet'   all_source3.tsv\n",
            "'all_source111 (2).gsheet'   DL-char-ngrams.ipynb\n",
            " all_source111.gsheet\t    'Multi-Class Text Classification with LSTM TDI  .ipynb'\n",
            " all_source111.tsv\t    'Text Classification with LSTM TDI .ipynb'\n",
            "/content/gdrive/MyDrive\n"
          ]
        }
      ],
      "source": [
        "!ls ColabNotebooks\n",
        "!pwd"
      ]
    },
    {
      "cell_type": "code",
      "execution_count": null,
      "id": "6GHpBSoVGKnc",
      "metadata": {
        "colab": {
          "base_uri": "https://localhost:8080/"
        },
        "id": "6GHpBSoVGKnc",
        "outputId": "d5bf4d63-0722-47f5-a482-24b292e3a109"
      },
      "outputs": [
        {
          "name": "stdout",
          "output_type": "stream",
          "text": [
            "/content/gdrive/MyDrive\n"
          ]
        }
      ],
      "source": [
        "!pwd"
      ]
    },
    {
      "cell_type": "code",
      "execution_count": null,
      "id": "9ad27846",
      "metadata": {
        "id": "9ad27846"
      },
      "outputs": [],
      "source": [
        "#Text Preprocessing step\n",
        "#Remove alphanumeric characters, punctuation marks and symbols\n",
        "\n",
        "BLOCK_CHAR = \"\"\"'()[]\":፣፡፡፡“”።?::፥፤]+\\*_-‘’!\"\"\" + 'abcdefghijklmnopqrstuvwxyzABCDEFGHIJKLMNOPQRSTUVWXYZ'\n",
        "BLOCK_CHAR = ''.join(BLOCK_CHAR.split())\n",
        "\n",
        "def clean_text(raw_text):\n",
        "    #raw_text = re.sub(r\"()[\"\":፣ ፡፡''፡“ ” ።?::፥፤]+\\ *\", \" \", raw_text)\n",
        "    for c in BLOCK_CHAR:\n",
        "        if c not in raw_text:\n",
        "            continue\n",
        "        raw_text = raw_text.replace(c, '')\n",
        "    return raw_text"
      ]
    },
    {
      "cell_type": "code",
      "execution_count": null,
      "id": "f8e858f4",
      "metadata": {
        "id": "f8e858f4"
      },
      "outputs": [],
      "source": [
        "def load_data(fin):\n",
        "    '''accepts fin a string representing file name\n",
        "    returns list of lines in a file'''\n",
        "    X = []\n",
        "    y = []\n",
        "    with open(fin, encoding=\"utf8\") as f:\n",
        "        labels = next(f).rstrip('\\n').split('\\t')\n",
        "        for line in f:\n",
        "            parts = line.rstrip('\\n').split('\\t')\n",
        "            if len(set(parts)) != 3:\n",
        "                continue\n",
        "            for part, label in zip(parts, labels):\n",
        "                part = clean_text(part)\n",
        "                if part.strip() == '':\n",
        "                    continue\n",
        "                X.append(part)\n",
        "                y.append(label)\n",
        "    return X,y"
      ]
    },
    {
      "cell_type": "code",
      "execution_count": null,
      "id": "dZ2IeGuZkeMm",
      "metadata": {
        "id": "dZ2IeGuZkeMm"
      },
      "outputs": [],
      "source": [
        "def load_data(fin):\n",
        "  \"\"\"\n",
        "  Accepts a string representing a filename and returns a list of lines and labels.\n",
        "\n",
        "  Args:\n",
        "      fin: The filename of the data file.\n",
        "\n",
        "  Returns:\n",
        "      A tuple containing two lists:\n",
        "          - X: A list of data points (text).\n",
        "          - y: A list of corresponding labels.\n",
        "  \"\"\"\n",
        "  X = []\n",
        "  y = []\n",
        "  with open(fin, 'r', encoding='utf-8') as f:\n",
        "    try:\n",
        "      # Read labels line using UTF-8 encoding\n",
        "      labels = next(f).rstrip('\\n').split('\\t')\n",
        "      for line in f:\n",
        "        parts = line.rstrip('\\n').split('\\t')\n",
        "        if len(set(parts)) != 3:\n",
        "          continue\n",
        "        for part, label in zip(parts, labels):\n",
        "          part = clean_text(part)\n",
        "          if part.strip() == '':\n",
        "            continue\n",
        "          X.append(part)\n",
        "          y.append(label)\n",
        "    except UnicodeDecodeError:  # Handle potential encoding errors\n",
        "      print(f\"Error: Encountered encoding issue with file {fin}.\")\n",
        "      print(\"Trying alternative encodings...\")\n",
        "      encodings = ['latin-1', 'cp1252']  # List of potential encodings to try\n",
        "      for encoding in encodings:\n",
        "        try:\n",
        "          # Read labels line with the current encoding\n",
        "          with open(fin, 'r', encoding=encoding) as f:\n",
        "            labels = next(f).rstrip('\\n').split('\\t')\n",
        "            for line in f:\n",
        "              parts = line.rstrip('\\n').split('\\t')\n",
        "              if len(set(parts)) != 3:\n",
        "                continue\n",
        "              for part, label in zip(parts, labels):\n",
        "                part = clean_text(part)\n",
        "                if part.strip() == '':\n",
        "                  continue\n",
        "                X.append(part)\n",
        "                y.append(label)\n",
        "          # If successful, break out of the loop\n",
        "          print(f\"Successfully loaded data using encoding: {encoding}\")\n",
        "          break\n",
        "        except UnicodeDecodeError:\n",
        "          # If decoding fails with the current encoding, continue to the next one\n",
        "          print(f\"Encoding {encoding} failed. Trying next...\")\n",
        "      else:\n",
        "        # If all encodings fail, raise an informative error\n",
        "        print(\"Failed to decode data using any of the provided encodings.\")\n",
        "        raise UnicodeDecodeError(\"Encountered encoding issue with file and couldn't find a suitable encoding.\")\n",
        "  return X, y"
      ]
    },
    {
      "cell_type": "code",
      "execution_count": null,
      "id": "3b117ddf",
      "metadata": {
        "colab": {
          "base_uri": "https://localhost:8080/"
        },
        "id": "3b117ddf",
        "outputId": "45f5d411-08ca-4603-b77b-2cfc31f4cbc7"
      },
      "outputs": [
        {
          "name": "stdout",
          "output_type": "stream",
          "text": [
            "Error: Encountered encoding issue with file /content/gdrive/MyDrive/ColabNotebooks/all_source3.tsv.\n",
            "Trying alternative encodings...\n",
            "Successfully loaded data using encoding: latin-1\n"
          ]
        }
      ],
      "source": [
        "X,y = load_data('/content/gdrive/MyDrive/ColabNotebooks/all_source3.tsv')"
      ]
    },
    {
      "cell_type": "code",
      "execution_count": null,
      "id": "612c01f6",
      "metadata": {
        "id": "612c01f6"
      },
      "outputs": [],
      "source": [
        "def gen_ngrams(s, ns=(1,2,3)):\n",
        "    '''takes s string and ns tuple as arguments\n",
        "    generates ngram strings'''\n",
        "    for n in ns:\n",
        "        for ngram in ngrams(s,n):\n",
        "            ngram = ''.join(ngram)\n",
        "            yield ngram"
      ]
    },
    {
      "cell_type": "code",
      "execution_count": null,
      "id": "a2876734",
      "metadata": {
        "id": "a2876734"
      },
      "outputs": [],
      "source": [
        "def ngram_freq(sents, ns=(1,2,3)):\n",
        "    ngram_tokens = defaultdict(int)\n",
        "    for s in sents:\n",
        "        for ngram in gen_ngrams(s, ns):\n",
        "            ngram_tokens[ngram] += 1\n",
        "    return ngram_tokens"
      ]
    },
    {
      "cell_type": "code",
      "execution_count": null,
      "id": "fb226df1",
      "metadata": {
        "id": "fb226df1"
      },
      "outputs": [],
      "source": [
        "# generating ngrams with values 1, 2 and 3\n",
        "ngram_tokens = ngram_freq(X, ns=(1,))"
      ]
    },
    {
      "cell_type": "code",
      "execution_count": null,
      "id": "70d61090",
      "metadata": {
        "id": "70d61090"
      },
      "outputs": [],
      "source": [
        "# sorts ngrams by frequency from most frequent to least frequent\n",
        "top_ngrams_freq = sorted(ngram_tokens.items(), key=lambda x:x[1], reverse=True)"
      ]
    },
    {
      "cell_type": "code",
      "execution_count": null,
      "id": "18edfcd4",
      "metadata": {
        "id": "18edfcd4"
      },
      "outputs": [],
      "source": [
        "word_list =  [oov_tok] + [i[0] for i in top_ngrams_freq[:max_features]]\n",
        "word_index = dict([(j,i) for (i,j) in enumerate(word_list, start=1)])"
      ]
    },
    {
      "cell_type": "code",
      "execution_count": null,
      "id": "c35338a6",
      "metadata": {
        "colab": {
          "base_uri": "https://localhost:8080/"
        },
        "id": "c35338a6",
        "outputId": "ab2a9978-b248-4a2d-cef0-3e56f549b3f2",
        "scrolled": false
      },
      "outputs": [
        {
          "data": {
            "text/plain": [
              "{'<OOV>': 1,\n",
              " '\\x9c': 2,\n",
              " '¾': 3,\n",
              " '9': 4,\n",
              " '=': 5,\n",
              " '\\x8e': 6,\n",
              " '\\x95': 7,\n",
              " '2': 8,\n",
              " 'É': 9,\n",
              " 'Í': 10}"
            ]
          },
          "execution_count": 26,
          "metadata": {},
          "output_type": "execute_result"
        }
      ],
      "source": [
        "dict(list(word_index.items())[0:10])"
      ]
    },
    {
      "cell_type": "code",
      "execution_count": null,
      "id": "0328d6d7",
      "metadata": {
        "colab": {
          "base_uri": "https://localhost:8080/",
          "height": 35
        },
        "id": "0328d6d7",
        "outputId": "fb05fdfd-5b91-441d-8b1c-b5ea007a2f0f"
      },
      "outputs": [
        {
          "data": {
            "application/vnd.google.colaboratory.intrinsic+json": {
              "type": "string"
            },
            "text/plain": [
              "'{ÂõÓ\\x84«û«\\x97\\x0c¡Å\\x08\\x85=á\\x87ÜÅº\\xa0ã\\x02\\x1fÀ§'"
            ]
          },
          "execution_count": 27,
          "metadata": {},
          "output_type": "execute_result"
        }
      ],
      "source": [
        "X[0]"
      ]
    },
    {
      "cell_type": "code",
      "execution_count": null,
      "id": "abe2b5d1",
      "metadata": {
        "colab": {
          "background_save": true
        },
        "id": "abe2b5d1",
        "scrolled": false
      },
      "outputs": [],
      "source": [
        "# Note: the ngram sequence (ns) we use for feature generation must match the one used to build the dictionary\n",
        "#[i for i in gen_ngrams(X[0], ns=(1,))]"
      ]
    },
    {
      "cell_type": "code",
      "execution_count": null,
      "id": "e186da7b",
      "metadata": {
        "colab": {
          "base_uri": "https://localhost:8080/"
        },
        "id": "e186da7b",
        "outputId": "6f7cf39c-077d-4a24-cc62-95bd4aa93790"
      },
      "outputs": [
        {
          "name": "stdout",
          "output_type": "stream",
          "text": [
            "['እ', 'ቲ', ' ', 'ና', 'ይ', 'ት', 'ግ', 'ራ', 'ይ', ' ', 'ቴ', 'ሌ', 'ቪ', 'ዥ', 'ን', ' ', 'ጋ', 'ዜ', 'ጠ', 'ኛ', ' ', 'ዮ', 'ው', 'ሃ', 'ን', 'ስ', ' ', 'ዝ', 'በ', 'ሃ', 'ል', ' ', 'ግ', 'ን', ' ', 'ጋ', 'ዜ', 'ጠ', 'ኛ', 'ዶ', ' ', 'ወ', 'ይ', 'ስ', ' ', 'ወ', 'ኪ', 'ል', ' ', 'ህ', 'ወ', 'ሓ', 'ት', ' ', 'ይ', 'ግ', 'ር', 'ም', 1, 1, 179, 1, 1, 1, 1, 1, 1, 179, 1, 1, 1, 1, 1, 179, 1, 1, 1, 1, 179, 1, 1, 1, 1, 1, 179, 1, 1, 1, 1, 179, 1, 1, 179, 1, 1, 1, 1, 1, 179, 1, 1, 1, 179, 1, 1, 1, 179, 1, 1, 1, 1, 179, 1, 1, 1, 1]\n"
          ]
        }
      ],
      "source": [
        "# Sample text to confirm if the codes above are working\n",
        "\n",
        "a = 'እቲ ናይትግራይ ቴሌቪዥን ጋዜጠኛ ዮውሃንስ ዝበሃል ግን ጋዜጠኛዶ ወይስ ወኪል ህወሓት ይግርም'\n",
        "t = [i for i in gen_ngrams(a, ns=(1,))]\n",
        "idx = [word_index.get(tok, 1) for tok in t]\n",
        "#print(t)\n",
        "print(t + idx)"
      ]
    },
    {
      "cell_type": "code",
      "execution_count": null,
      "id": "93c7e86d",
      "metadata": {
        "id": "93c7e86d"
      },
      "outputs": [],
      "source": [
        "def tokenizer(X, ns=(1,2)):\n",
        "    \"\"\"using list comprehension\n",
        "    X_tok = [i for i in gen_ngrams(x, ns=(1,2,3)) for x in X]\n",
        "    \"\"\"\n",
        "    tokenized = []\n",
        "    for x in X:\n",
        "        toks = [tok for tok in gen_ngrams(x, ns)]\n",
        "        idx = [word_index.get(tok, 1) for tok in toks]\n",
        "        tokenized.append(idx)\n",
        "        if max(idx) > 20000 + 1:\n",
        "            print(x)\n",
        "    return tokenized"
      ]
    },
    {
      "cell_type": "code",
      "execution_count": null,
      "id": "9abf6bed",
      "metadata": {
        "id": "9abf6bed"
      },
      "outputs": [],
      "source": [
        "X_tok = tokenizer(X)"
      ]
    },
    {
      "cell_type": "code",
      "execution_count": null,
      "id": "2aae7856",
      "metadata": {
        "colab": {
          "base_uri": "https://localhost:8080/"
        },
        "id": "2aae7856",
        "outputId": "0bb84a64-6cb4-4629-aa4e-8c876a36ea9a"
      },
      "outputs": [
        {
          "data": {
            "text/plain": [
              "[50, 59, 34, 1, 1]"
            ]
          },
          "execution_count": 31,
          "metadata": {},
          "output_type": "execute_result"
        }
      ],
      "source": [
        "X_tok[1][:5]"
      ]
    },
    {
      "cell_type": "code",
      "execution_count": null,
      "id": "be2ef2db",
      "metadata": {
        "colab": {
          "base_uri": "https://localhost:8080/",
          "height": 143
        },
        "id": "be2ef2db",
        "outputId": "39d5f071-16c2-48df-f89b-4541cf7483ef"
      },
      "outputs": [
        {
          "ename": "KeyError",
          "evalue": "'ብ'",
          "output_type": "error",
          "traceback": [
            "\u001b[0;31m---------------------------------------------------------------------------\u001b[0m",
            "\u001b[0;31mKeyError\u001b[0m                                  Traceback (most recent call last)",
            "\u001b[0;32m<ipython-input-32-36d19ce4781b>\u001b[0m in \u001b[0;36m<cell line: 1>\u001b[0;34m()\u001b[0m\n\u001b[0;32m----> 1\u001b[0;31m \u001b[0mword_index\u001b[0m\u001b[0;34m[\u001b[0m\u001b[0;34m'ብ'\u001b[0m\u001b[0;34m]\u001b[0m\u001b[0;34m\u001b[0m\u001b[0;34m\u001b[0m\u001b[0m\n\u001b[0m",
            "\u001b[0;31mKeyError\u001b[0m: 'ብ'"
          ]
        }
      ],
      "source": [
        "word_index['ብ']"
      ]
    },
    {
      "cell_type": "code",
      "execution_count": null,
      "id": "1ba5afae",
      "metadata": {
        "colab": {
          "base_uri": "https://localhost:8080/"
        },
        "id": "1ba5afae",
        "outputId": "481eb8da-bc5b-4ea2-a980-a04efd087fe7"
      },
      "outputs": [
        {
          "data": {
            "text/plain": [
              "1435"
            ]
          },
          "execution_count": 33,
          "metadata": {},
          "output_type": "execute_result"
        }
      ],
      "source": [
        "# maximum length of tokens in our dataset\n",
        "max([len(X_tok[i]) for i in range(len(X_tok))])"
      ]
    },
    {
      "cell_type": "code",
      "execution_count": null,
      "id": "23baf32e",
      "metadata": {
        "id": "23baf32e"
      },
      "outputs": [],
      "source": [
        "# Which sentences is this?\n",
        "# TODO: Should we sort features?\n",
        "for idx, i in enumerate(range(len(X_tok))):\n",
        "    if len(X_tok[i]) == 503:\n",
        "        print(idx)\n",
        "        print(X[idx])"
      ]
    },
    {
      "cell_type": "code",
      "execution_count": null,
      "id": "c621b890",
      "metadata": {
        "id": "c621b890"
      },
      "outputs": [],
      "source": [
        "# Pads a single character\n",
        "\n",
        "def pad_seq(l, max_length):\n",
        "    if len(l) == max_length:\n",
        "        return l\n",
        "    elif len(l) < max_length:\n",
        "        return l + [1]*(max_length - len(l))\n",
        "    else:\n",
        "        return l[:max_length]"
      ]
    },
    {
      "cell_type": "code",
      "execution_count": null,
      "id": "3901c082",
      "metadata": {
        "id": "3901c082"
      },
      "outputs": [],
      "source": [
        "# Pads all input sequences\n",
        "\n",
        "def pad_seqs(X, max_length):\n",
        "    res = []\n",
        "    for x in X:\n",
        "        l = np.array(pad_seq(x, max_length))\n",
        "        res.append(l)\n",
        "    return np.array(res)"
      ]
    },
    {
      "cell_type": "code",
      "execution_count": null,
      "id": "ecf3033b",
      "metadata": {
        "id": "ecf3033b"
      },
      "outputs": [],
      "source": [
        "# check\n",
        "#X_tok_padded = pad_sequences(X_tok, maxlen=max_length, padding=padding_type, truncating=trunc_type)\n",
        "X_tok_padded = pad_seqs(X_tok, max_length=max_length)"
      ]
    },
    {
      "cell_type": "code",
      "execution_count": null,
      "id": "2bd4cff1",
      "metadata": {
        "id": "2bd4cff1"
      },
      "outputs": [],
      "source": [
        "#our labels are in Z, L, D but we want a three dimensional vector corresponding to each class\n",
        "from sklearn import preprocessing\n",
        "lb = preprocessing.LabelBinarizer()\n",
        "y_ = lb.fit_transform(y)"
      ]
    },
    {
      "cell_type": "code",
      "execution_count": null,
      "id": "b1db0cc2",
      "metadata": {
        "colab": {
          "base_uri": "https://localhost:8080/"
        },
        "id": "b1db0cc2",
        "outputId": "55b97f11-8e3c-4b21-877b-293e69f79e4f"
      },
      "outputs": [
        {
          "name": "stdout",
          "output_type": "stream",
          "text": [
            "['PK\\x03\\x04\\x14\\x00\\x08\\x08\\x08\\x00i\\x1d\\x9fY\\x00\\x00\\x00\\x00\\x00\\x00\\x00\\x00\\x00\\x00\\x00\\x00\\x14\\x00\\x00\\x00xl/tables/table1.xmlm\\x90ÍNÃ0\\x10\\x84\\x9f\\x80w°öÞ8i\\x11\\xa0ªI\\x85\\x8a*!U\\x1ch¹p©L²i,ù\\'ò:-y{\\x1c\\x1c\\xa0\\x15=î|;\\x9aÑ,\\x96\\x9fZ±#:\\x92Öä\\x90%)04¥\\xad¤9äð¶[O\\x1e\\x80\\x91\\x17¦\\x12Ê\\x1aÌ¡G\\x82eq³ðâC!\\x0bfC94Þ·sÎ©lP\\x0bJl\\x8b&\\x90Ú:-|8Ý\\x81SëPTÔ z\\xadø4Mï¸\\x16Ò\\x00sXçð\\x98ÍW·iv\\x0f¬\\x92Ô*Ñ¿\\x08\\x1d²vCÆ>\\x03f.OY\\x85¦PÄ\\x0e+«:m\\x88\\x95¶3>\\x87Ù¥>Zß\\x7fLü\\x1aÝD:½N\\x9f\"\\x9d', 'PK\\x03\\x04\\x14\\x00\\x08\\x08\\x08\\x00i\\x1d\\x9fY\\x00\\x00\\x00\\x00\\x00\\x00\\x00\\x00\\x00\\x00\\x00\\x00\\x14\\x00\\x00\\x00xl/tables/table1.xmlm\\x90ÍNÃ0\\x10\\x84\\x9f\\x80w°öÞ8i\\x11\\xa0ªI\\x85\\x8a*!U\\x1ch¹p©L²i,ù\\'ò:-y{\\x1c\\x1c\\xa0\\x15=î|;\\x9aÑ,\\x96\\x9fZ±#:\\x92Öä\\x90%)04¥\\xad¤9äð¶[O\\x1e\\x80\\x91\\x17¦\\x12Ê\\x1aÌ¡G\\x82eq³ðâC!\\x0bfC94Þ·sÎ©lP\\x0bJl\\x8b&\\x90Ú:-|8Ý\\x81SëPTÔ z\\xadø4Mï¸\\x16Ò\\x00sXçð\\x98ÍW·iv\\x0f¬\\x92Ô*Ñ¿\\x08\\x1d²vCÆ>\\x03f.OY\\x85¦PÄ\\x0e+«:m\\x88\\x95¶3>\\x87Ù¥>Zß\\x7fLü\\x1aÝD:½N\\x9f\"\\x9d', 'PK\\x03\\x04\\x14\\x00\\x08\\x08\\x08\\x00i\\x1d\\x9fY\\x00\\x00\\x00\\x00\\x00\\x00\\x00\\x00\\x00\\x00\\x00\\x00\\x14\\x00\\x00\\x00xl/tables/table1.xmlm\\x90ÍNÃ0\\x10\\x84\\x9f\\x80w°öÞ8i\\x11\\xa0ªI\\x85\\x8a*!U\\x1ch¹p©L²i,ù\\'ò:-y{\\x1c\\x1c\\xa0\\x15=î|;\\x9aÑ,\\x96\\x9fZ±#:\\x92Öä\\x90%)04¥\\xad¤9äð¶[O\\x1e\\x80\\x91\\x17¦\\x12Ê\\x1aÌ¡G\\x82eq³ðâC!\\x0bfC94Þ·sÎ©lP\\x0bJl\\x8b&\\x90Ú:-|8Ý\\x81SëPTÔ z\\xadø4Mï¸\\x16Ò\\x00sXçð\\x98ÍW·iv\\x0f¬\\x92Ô*Ñ¿\\x08\\x1d²vCÆ>\\x03f.OY\\x85¦PÄ\\x0e+«:m\\x88\\x95¶3>\\x87Ù¥>Zß\\x7fLü\\x1aÝD:½N\\x9f\"\\x9d', 'PK\\x03\\x04\\x14\\x00\\x08\\x08\\x08\\x00i\\x1d\\x9fY\\x00\\x00\\x00\\x00\\x00\\x00\\x00\\x00\\x00\\x00\\x00\\x00\\x14\\x00\\x00\\x00xl/tables/table1.xmlm\\x90ÍNÃ0\\x10\\x84\\x9f\\x80w°öÞ8i\\x11\\xa0ªI\\x85\\x8a*!U\\x1ch¹p©L²i,ù\\'ò:-y{\\x1c\\x1c\\xa0\\x15=î|;\\x9aÑ,\\x96\\x9fZ±#:\\x92Öä\\x90%)04¥\\xad¤9äð¶[O\\x1e\\x80\\x91\\x17¦\\x12Ê\\x1aÌ¡G\\x82eq³ðâC!\\x0bfC94Þ·sÎ©lP\\x0bJl\\x8b&\\x90Ú:-|8Ý\\x81SëPTÔ z\\xadø4Mï¸\\x16Ò\\x00sXçð\\x98ÍW·iv\\x0f¬\\x92Ô*Ñ¿\\x08\\x1d²vCÆ>\\x03f.OY\\x85¦PÄ\\x0e+«:m\\x88\\x95¶3>\\x87Ù¥>Zß\\x7fLü\\x1aÝD:½N\\x9f\"\\x9d', 'PK\\x03\\x04\\x14\\x00\\x08\\x08\\x08\\x00i\\x1d\\x9fY\\x00\\x00\\x00\\x00\\x00\\x00\\x00\\x00\\x00\\x00\\x00\\x00\\x14\\x00\\x00\\x00xl/tables/table1.xmlm\\x90ÍNÃ0\\x10\\x84\\x9f\\x80w°öÞ8i\\x11\\xa0ªI\\x85\\x8a*!U\\x1ch¹p©L²i,ù\\'ò:-y{\\x1c\\x1c\\xa0\\x15=î|;\\x9aÑ,\\x96\\x9fZ±#:\\x92Öä\\x90%)04¥\\xad¤9äð¶[O\\x1e\\x80\\x91\\x17¦\\x12Ê\\x1aÌ¡G\\x82eq³ðâC!\\x0bfC94Þ·sÎ©lP\\x0bJl\\x8b&\\x90Ú:-|8Ý\\x81SëPTÔ z\\xadø4Mï¸\\x16Ò\\x00sXçð\\x98ÍW·iv\\x0f¬\\x92Ô*Ñ¿\\x08\\x1d²vCÆ>\\x03f.OY\\x85¦PÄ\\x0e+«:m\\x88\\x95¶3>\\x87Ù¥>Zß\\x7fLü\\x1aÝD:½N\\x9f\"\\x9d']\n"
          ]
        }
      ],
      "source": [
        "print(y[:5])"
      ]
    },
    {
      "cell_type": "code",
      "execution_count": null,
      "id": "b9e4ba61",
      "metadata": {
        "colab": {
          "base_uri": "https://localhost:8080/"
        },
        "id": "b9e4ba61",
        "outputId": "57fd9bcf-b7f2-4a59-90b7-5b4c6c5c1068"
      },
      "outputs": [
        {
          "name": "stdout",
          "output_type": "stream",
          "text": [
            "[[0]\n",
            " [0]\n",
            " [0]\n",
            " [0]\n",
            " [0]]\n"
          ]
        }
      ],
      "source": [
        "print(y_[:5])"
      ]
    },
    {
      "cell_type": "code",
      "execution_count": null,
      "id": "c559864c",
      "metadata": {
        "colab": {
          "base_uri": "https://localhost:8080/"
        },
        "id": "c559864c",
        "outputId": "207df085-7f0b-40c7-a27f-0e4ea7485242"
      },
      "outputs": [
        {
          "name": "stdout",
          "output_type": "stream",
          "text": [
            "203\n",
            "203\n",
            "162 162\n",
            "41 41\n",
            "Train shape: (162, 500)\n",
            "Test shape: (41, 500)\n"
          ]
        }
      ],
      "source": [
        "from sklearn.model_selection import train_test_split\n",
        "X_train, X_test, y_train, y_test = train_test_split(X_tok_padded, y_, test_size=0.2, random_state=42)\n",
        "\n",
        "print(len(X))\n",
        "print(len(y))\n",
        "\n",
        "print(len(X_train), len(y_train))\n",
        "print(len(X_test), len(y_test))\n",
        "\n",
        "print('Train shape:',X_train.shape)\n",
        "print('Test shape:',X_test.shape)"
      ]
    },
    {
      "cell_type": "code",
      "execution_count": null,
      "id": "a46961eb",
      "metadata": {
        "colab": {
          "background_save": true,
          "base_uri": "https://localhost:8080/"
        },
        "id": "a46961eb",
        "outputId": "99d97144-4307-4474-cc2b-1f213c4f7608"
      },
      "outputs": [
        {
          "data": {
            "text/plain": [
              "223"
            ]
          },
          "execution_count": null,
          "metadata": {},
          "output_type": "execute_result"
        }
      ],
      "source": [
        "len(tokenizer([X[0]])[0])"
      ]
    },
    {
      "cell_type": "code",
      "execution_count": null,
      "id": "e44c0d87",
      "metadata": {
        "colab": {
          "base_uri": "https://localhost:8080/"
        },
        "id": "e44c0d87",
        "outputId": "132f51ac-a8f7-44ce-86f1-7c343ad6e269"
      },
      "outputs": [
        {
          "data": {
            "text/plain": [
              "array([142, 111, 128, 186,  81, 175, 160,  49,  23,  94,  47,  41, 142,\n",
              "       116,  18, 167, 161,  96, 134, 118, 180, 147, 181,  41,  56,   1,\n",
              "         1,   1,   1,   1,   1,   1,   1,   1,   1,   1,   1,   1,   1,\n",
              "         1,   1,   1,   1,   1,   1,   1,   1,   1,   1,   1,   1,   1,\n",
              "         1,   1,   1,   1,   1,   1,   1,   1,   1,   1,   1,   1,   1,\n",
              "         1,   1,   1,   1,   1,   1,   1,   1,   1,   1,   1,   1,   1,\n",
              "         1,   1,   1,   1,   1,   1,   1,   1,   1,   1,   1,   1,   1,\n",
              "         1,   1,   1,   1,   1,   1,   1,   1,   1])"
            ]
          },
          "execution_count": 44,
          "metadata": {},
          "output_type": "execute_result"
        }
      ],
      "source": [
        "X_train[0][:100]"
      ]
    },
    {
      "cell_type": "markdown",
      "id": "210fd643",
      "metadata": {
        "id": "210fd643"
      },
      "source": [
        "# BI-LSTM Reference\n",
        "\n",
        "François Chollet.(2020/05/03). Bidirectional LSTM on IMDB. Retrieved 30 August 2021, from: https://keras.io/examples/nlp/bidirectional_lstm_imdb/"
      ]
    },
    {
      "cell_type": "code",
      "execution_count": null,
      "id": "4c4ec482",
      "metadata": {
        "id": "4c4ec482"
      },
      "outputs": [],
      "source": [
        "# create a Bi-LSTM model\n",
        "def BiLSTM_model(drop_out, filter_one, filter_two, last_dense, padding, num_epochs):\n",
        "    model = tf.keras.Sequential([\n",
        "        # Add an Embedding layer expecting input vocab of size 20000,\n",
        "        # and output embedding dimension of size 64 we set at the top\n",
        "        tf.keras.layers.Embedding(max_features+2,embedding_dim,input_shape=(500,)),\n",
        "        #To add Bidirectional layers sequencially, use return_sequences=True\n",
        "\n",
        "        tf.keras.layers.Bidirectional(tf.keras.layers.LSTM(filter_one, return_sequences=True)),\n",
        "        #tf.keras.layers.Bidirectional(tf.keras.layers.LSTM(filter_one,return_sequences=True)),\n",
        "        tf.keras.layers.Dropout(drop_out),\n",
        "\n",
        "        # use ReLU in place of tanh function since they are very good alternatives of each other.\n",
        "        #tf.keras.layers.Dense(last_dense, activation='relu'), #Check with and without this layer\n",
        "\n",
        "        tf.keras.layers.Bidirectional(tf.keras.layers.LSTM(filter_two)),\n",
        "        tf.keras.layers.Dropout(drop_out),\n",
        "\n",
        "\n",
        "        tf.keras.layers.Dense(64, activation='relu'),\n",
        "        # Add a Dense layer with 3 units and softmax activation.\n",
        "        # We have three outputs, softmax converts output layers into a probability distribution.\n",
        "        tf.keras.layers.Dense(num_classes, activation='softmax')\n",
        "    ])\n",
        "    model.summary()\n",
        "\n",
        "    model.compile(loss='categorical_crossentropy', optimizer='adam', metrics=['accuracy'])\n",
        "    #Drow the BiLSTM Neural Network architecture\n",
        "\n",
        "    #plot_model(model, to_file='./BiLSTM_model_plot.png', show_shapes=True, show_layer_names=True)\n",
        "\n",
        "    #fit the model\n",
        "    #checkpointer = ModelCheckpoint(filepath='./best_BiLSTM_checkpoint.hdf5',\n",
        "                                   #verbose=1,\n",
        "                                   #save_best_only=True,\n",
        "                                   #save_weights_only=False,\n",
        "                                   #monitor='val_accuracy',\n",
        "                                   #mode='max',\n",
        "                                   #save_freq=\"epoch\")\n",
        "    # Model weights are saved at the end of every epoch, if it's the best seen so far\n",
        "    history = model.fit(X_train, y_train, epochs=num_epochs,validation_data=(X_test, y_test), verbose=2,callbacks=[checkpointer])\n",
        "\n",
        "    # Evaluate the model on the test data (this is for testing time, with the testing dataset)\n",
        "    # Returns the loss value & metrics values for the model in test mode.\n",
        "\n",
        "    print('\\n')\n",
        "    print(\"Evaluate on test data\",'\\n')\n",
        "    results = model.evaluate(X_test, y_test, batch_size=64)\n",
        "    print(\"Test Loss:\",results[0])\n",
        "    print(\"Test Accuracy:\",results[1])\n",
        "\n",
        "    # Generate output predictions for the input samples(probabilities -the output of the last layer) on new data\n",
        "    # (this is for somewhere between training and testing time).\n",
        "    # Use this model to do some feed-forward passes to predict novel inputs.\n",
        "\n",
        "    print('\\n')\n",
        "    #assert np.allclose(model.predict(X_test), loaded_model.predict(X_test))\n",
        "    predictions = model.predict(X_test)\n",
        "    print(\"predictions shape:\", predictions.shape)\n",
        "    y_pred = (predictions)\n",
        "\n",
        "    #Creating a confusion matrix,which compares the y_test and y_pred\n",
        "    #Note The support column in classification_report is:\n",
        "    #the number of occurrences of each class in y_test.It shows testset distribution\n",
        "    # Plotting training and validation loss graph\n",
        "\n",
        "    results = pd.DataFrame(\n",
        "    confusion_matrix( y_test.argmax(axis=1), y_pred.argmax(axis=1)),\n",
        "    index=['D', 'L', 'Z'],\n",
        "    columns=['D', 'L', 'Z'])\n",
        "\n",
        "    print('-'*80,'\\n')\n",
        "    print('Confusion Matrix of BiLSTM Model', '\\n')\n",
        "    print(results,'\\n')\n",
        "\n",
        "    print('Classification Report : ','\\n')\n",
        "    target_names = ['D-variety', 'L-variety', 'Z-variety']\n",
        "    print (classification_report(y_test.argmax(axis=1),y_pred.argmax(axis=1),target_names=target_names),'\\n')\n",
        "\n",
        "   # Plotting training and validation loss graph\n",
        "    print(\"Plotting Loss and Accuracy Graphs\",'\\n')\n",
        "    plt.plot(history.history['loss'], label='train loss')\n",
        "    plt.plot(history.history['val_loss'], label='val loss')\n",
        "    plt.title('Model Loss')\n",
        "    plt.ylabel('Loss')\n",
        "    plt.xlabel('epoch')\n",
        "    plt.legend()\n",
        "    plt.show()\n",
        "\n",
        "    # Plotting training and validation Accuracy graph\n",
        "    plt.plot(history.history['accuracy'], label='train acc')\n",
        "    plt.plot(history.history['val_accuracy'], label='val acc')\n",
        "    plt.title('Model Accuracy')\n",
        "    plt.ylabel('accuracy')\n",
        "    plt.xlabel('epoch')\n",
        "    plt.legend()\n",
        "    plt.show()\n",
        "\n",
        "    return history.history"
      ]
    },
    {
      "cell_type": "code",
      "execution_count": null,
      "id": "UdfP3ezXjo5b",
      "metadata": {
        "colab": {
          "base_uri": "https://localhost:8080/",
          "height": 854
        },
        "id": "UdfP3ezXjo5b",
        "outputId": "f666cd37-9301-4881-f4f2-f895ef42b94a"
      },
      "outputs": [
        {
          "name": "stdout",
          "output_type": "stream",
          "text": [
            "Model: \"sequential_2\"\n",
            "_________________________________________________________________\n",
            " Layer (type)                Output Shape              Param #   \n",
            "=================================================================\n",
            " embedding_2 (Embedding)     (None, 500, 64)           1280128   \n",
            "                                                                 \n",
            " bidirectional_4 (Bidirecti  (None, 500, 128)          66048     \n",
            " onal)                                                           \n",
            "                                                                 \n",
            " dropout_4 (Dropout)         (None, 500, 128)          0         \n",
            "                                                                 \n",
            " bidirectional_5 (Bidirecti  (None, 128)               98816     \n",
            " onal)                                                           \n",
            "                                                                 \n",
            " dropout_5 (Dropout)         (None, 128)               0         \n",
            "                                                                 \n",
            " dense_4 (Dense)             (None, 64)                8256      \n",
            "                                                                 \n",
            " dense_5 (Dense)             (None, 3)                 195       \n",
            "                                                                 \n",
            "=================================================================\n",
            "Total params: 1453443 (5.54 MB)\n",
            "Trainable params: 1453443 (5.54 MB)\n",
            "Non-trainable params: 0 (0.00 Byte)\n",
            "_________________________________________________________________\n"
          ]
        },
        {
          "ename": "NameError",
          "evalue": "name 'checkpointer' is not defined",
          "output_type": "error",
          "traceback": [
            "\u001b[0;31m---------------------------------------------------------------------------\u001b[0m",
            "\u001b[0;31mNameError\u001b[0m                                 Traceback (most recent call last)",
            "\u001b[0;32m<ipython-input-51-50cc749b3706>\u001b[0m in \u001b[0;36m<cell line: 3>\u001b[0;34m()\u001b[0m\n\u001b[1;32m      1\u001b[0m \u001b[0mmax_features\u001b[0m \u001b[0;34m=\u001b[0m \u001b[0mmax_features\u001b[0m\u001b[0;34m\u001b[0m\u001b[0;34m\u001b[0m\u001b[0m\n\u001b[1;32m      2\u001b[0m \u001b[0membedding_dim\u001b[0m \u001b[0;34m=\u001b[0m \u001b[0;36m64\u001b[0m\u001b[0;34m\u001b[0m\u001b[0;34m\u001b[0m\u001b[0m\n\u001b[0;32m----> 3\u001b[0;31m \u001b[0mBiLSTM_model\u001b[0m\u001b[0;34m(\u001b[0m\u001b[0mdrop_out\u001b[0m\u001b[0;34m=\u001b[0m\u001b[0;36m0.6\u001b[0m\u001b[0;34m,\u001b[0m\u001b[0mfilter_one\u001b[0m\u001b[0;34m=\u001b[0m\u001b[0;36m64\u001b[0m\u001b[0;34m,\u001b[0m\u001b[0mfilter_two\u001b[0m\u001b[0;34m=\u001b[0m\u001b[0;36m64\u001b[0m\u001b[0;34m,\u001b[0m\u001b[0mlast_dense\u001b[0m\u001b[0;34m=\u001b[0m\u001b[0;36m64\u001b[0m\u001b[0;34m,\u001b[0m\u001b[0mpadding\u001b[0m\u001b[0;34m=\u001b[0m\u001b[0;34m'same'\u001b[0m\u001b[0;34m,\u001b[0m\u001b[0mnum_epochs\u001b[0m\u001b[0;34m=\u001b[0m\u001b[0;36m10\u001b[0m\u001b[0;34m)\u001b[0m\u001b[0;34m\u001b[0m\u001b[0;34m\u001b[0m\u001b[0m\n\u001b[0m",
            "\u001b[0;32m<ipython-input-50-b88a6ad1d1c6>\u001b[0m in \u001b[0;36mBiLSTM_model\u001b[0;34m(drop_out, filter_one, filter_two, last_dense, padding, num_epochs)\u001b[0m\n\u001b[1;32m     39\u001b[0m                                    \u001b[0;31m#save_freq=\"epoch\")\u001b[0m\u001b[0;34m\u001b[0m\u001b[0;34m\u001b[0m\u001b[0m\n\u001b[1;32m     40\u001b[0m     \u001b[0;31m# Model weights are saved at the end of every epoch, if it's the best seen so far\u001b[0m\u001b[0;34m\u001b[0m\u001b[0;34m\u001b[0m\u001b[0m\n\u001b[0;32m---> 41\u001b[0;31m     \u001b[0mhistory\u001b[0m \u001b[0;34m=\u001b[0m \u001b[0mmodel\u001b[0m\u001b[0;34m.\u001b[0m\u001b[0mfit\u001b[0m\u001b[0;34m(\u001b[0m\u001b[0mX_train\u001b[0m\u001b[0;34m,\u001b[0m \u001b[0my_train\u001b[0m\u001b[0;34m,\u001b[0m \u001b[0mepochs\u001b[0m\u001b[0;34m=\u001b[0m\u001b[0mnum_epochs\u001b[0m\u001b[0;34m,\u001b[0m\u001b[0mvalidation_data\u001b[0m\u001b[0;34m=\u001b[0m\u001b[0;34m(\u001b[0m\u001b[0mX_test\u001b[0m\u001b[0;34m,\u001b[0m \u001b[0my_test\u001b[0m\u001b[0;34m)\u001b[0m\u001b[0;34m,\u001b[0m \u001b[0mverbose\u001b[0m\u001b[0;34m=\u001b[0m\u001b[0;36m2\u001b[0m\u001b[0;34m,\u001b[0m\u001b[0mcallbacks\u001b[0m\u001b[0;34m=\u001b[0m\u001b[0;34m[\u001b[0m\u001b[0mcheckpointer\u001b[0m\u001b[0;34m]\u001b[0m\u001b[0;34m)\u001b[0m\u001b[0;34m\u001b[0m\u001b[0;34m\u001b[0m\u001b[0m\n\u001b[0m\u001b[1;32m     42\u001b[0m \u001b[0;34m\u001b[0m\u001b[0m\n\u001b[1;32m     43\u001b[0m     \u001b[0;31m# Evaluate the model on the test data (this is for testing time, with the testing dataset)\u001b[0m\u001b[0;34m\u001b[0m\u001b[0;34m\u001b[0m\u001b[0m\n",
            "\u001b[0;31mNameError\u001b[0m: name 'checkpointer' is not defined"
          ]
        }
      ],
      "source": [
        "max_features = max_features\n",
        "embedding_dim = 64\n",
        "BiLSTM_model(drop_out=0.6,filter_one=64,filter_two=64,last_dense=64,padding='same',num_epochs=10)"
      ]
    },
    {
      "cell_type": "markdown",
      "id": "415abf1a",
      "metadata": {
        "id": "415abf1a"
      },
      "source": [
        "# CNN  Model Reference\n",
        "\n",
        "Mark Omernick, Francois Chollet. (2019). Text classification from scratch. Retrieved on 30 August 2021, from: https://keras.io/examples/nlp/text_classification_from_scratch/"
      ]
    },
    {
      "cell_type": "code",
      "execution_count": null,
      "id": "37251a69",
      "metadata": {
        "colab": {
          "base_uri": "https://localhost:8080/",
          "height": 443
        },
        "id": "37251a69",
        "outputId": "32e6038c-332b-4547-9e0c-31ac3f4eb514"
      },
      "outputs": [
        {
          "ename": "ModuleNotFoundError",
          "evalue": "No module named 'keras.utils.vis_utils'",
          "output_type": "error",
          "traceback": [
            "\u001b[0;31m---------------------------------------------------------------------------\u001b[0m",
            "\u001b[0;31mModuleNotFoundError\u001b[0m                       Traceback (most recent call last)",
            "\u001b[0;32m<ipython-input-52-9f9145532d8c>\u001b[0m in \u001b[0;36m<cell line: 3>\u001b[0;34m()\u001b[0m\n\u001b[1;32m      1\u001b[0m \u001b[0;31m#Create CNN Function to use the keras model in the scikit-learn wrapping class KerasClassifier\u001b[0m\u001b[0;34m\u001b[0m\u001b[0;34m\u001b[0m\u001b[0m\n\u001b[1;32m      2\u001b[0m \u001b[0;31m#To use this wrapper we must define a function that creates and returns your Keras sequential model,\u001b[0m\u001b[0;34m\u001b[0m\u001b[0;34m\u001b[0m\u001b[0m\n\u001b[0;32m----> 3\u001b[0;31m \u001b[0;32mfrom\u001b[0m \u001b[0mkeras\u001b[0m\u001b[0;34m.\u001b[0m\u001b[0mutils\u001b[0m\u001b[0;34m.\u001b[0m\u001b[0mvis_utils\u001b[0m \u001b[0;32mimport\u001b[0m \u001b[0mplot_model\u001b[0m\u001b[0;34m\u001b[0m\u001b[0;34m\u001b[0m\u001b[0m\n\u001b[0m\u001b[1;32m      4\u001b[0m \u001b[0;32mdef\u001b[0m \u001b[0mcnn_model\u001b[0m\u001b[0;34m(\u001b[0m\u001b[0mdrop_out\u001b[0m\u001b[0;34m,\u001b[0m \u001b[0mfilter_one\u001b[0m\u001b[0;34m,\u001b[0m \u001b[0mfilter_two\u001b[0m\u001b[0;34m,\u001b[0m \u001b[0mlast_dense\u001b[0m\u001b[0;34m,\u001b[0m\u001b[0mlearning_rate\u001b[0m\u001b[0;34m,\u001b[0m \u001b[0mpadding\u001b[0m\u001b[0;34m,\u001b[0m\u001b[0mnum_epochs\u001b[0m\u001b[0;34m)\u001b[0m\u001b[0;34m:\u001b[0m\u001b[0;34m\u001b[0m\u001b[0;34m\u001b[0m\u001b[0m\n\u001b[1;32m      5\u001b[0m     \u001b[0;31m# create a CNN model\u001b[0m\u001b[0;34m\u001b[0m\u001b[0;34m\u001b[0m\u001b[0m\n",
            "\u001b[0;31mModuleNotFoundError\u001b[0m: No module named 'keras.utils.vis_utils'",
            "",
            "\u001b[0;31m---------------------------------------------------------------------------\u001b[0;32m\nNOTE: If your import is failing due to a missing package, you can\nmanually install dependencies using either !pip or !apt.\n\nTo view examples of installing some common dependencies, click the\n\"Open Examples\" button below.\n\u001b[0;31m---------------------------------------------------------------------------\u001b[0m\n"
          ]
        }
      ],
      "source": [
        "#Create CNN Function to use the keras model in the scikit-learn wrapping class KerasClassifier\n",
        "#To use this wrapper we must define a function that creates and returns your Keras sequential model,\n",
        "from keras.utils.vis_utils import plot_model\n",
        "def cnn_model(drop_out, filter_one, filter_two, last_dense,learning_rate, padding,num_epochs):\n",
        "    # create a CNN model\n",
        "    model = tf.keras.Sequential([\n",
        "        # Add an Embedding layer expecting input vocab of size 20000, and output embedding dimension of size 64 we set at the top\n",
        "        tf.keras.layers.Embedding(max_features+2,embedding_dim,input_shape=(500,)),\n",
        "\n",
        "        # use ReLU in place of tanh function since they are very good alternatives of each other\n",
        "        tf.keras.layers.Conv1D(filters=128, kernel_size=3,padding=padding,activation='relu'),\n",
        "        tf.keras.layers.Dropout(drop_out),\n",
        "\n",
        "        # Conv1D + global max pooling\n",
        "        tf.keras.layers.Conv1D(filters=64, kernel_size=3,padding=padding,activation='relu'),\n",
        "        tf.keras.layers.GlobalMaxPool1D(),\n",
        "        tf.keras.layers.Dropout(drop_out),\n",
        "\n",
        "\n",
        "        # Add a vanilla hidden layer\n",
        "        tf.keras.layers.Dense(last_dense,activation='relu'),\n",
        "\n",
        "        # Add a Dense layer with 3 units since the output should be three(no. Classes)\n",
        "        # When we have multiple outputs, softmax convert outputs layers into a probability distribution.\n",
        "        tf.keras.layers.Dense(num_classes, activation='softmax')\n",
        "    ])\n",
        "    model.summary()\n",
        "\n",
        "    # Decide a model architecture, this is the number of hidden layers and activation functions, etc.\n",
        "\n",
        "    model.compile(loss='categorical_crossentropy', optimizer='adam', metrics=['accuracy'])\n",
        "    plot_model(model, to_file='./CNN_model_plot.png', show_shapes=True, show_layer_names=True)\n",
        "\n",
        "    # Train the model for a given number of epochs(this is for training time, with the training dataset).\n",
        "    # Train our model to get all the paramters to the correct value to map our inputs to our outputs.\n",
        "\n",
        "    checkpointer = ModelCheckpoint(filepath='./best_CNN_checkpoint.hdf5',\n",
        "                                   verbose=1,\n",
        "                                   save_best_only=True,\n",
        "                                   save_weights_only=False,\n",
        "                                   monitor='val_accuracy',\n",
        "                                   mode='max',\n",
        "                                   save_freq=\"epoch\")\n",
        "\n",
        "    history = model.fit(X_train, y_train, epochs=num_epochs,validation_data=(X_test, y_test), verbose=2,callbacks=[checkpointer])\n",
        "\n",
        "    # Evaluate the model on the test data (this is for testing time, with the testing dataset)\n",
        "    # Returns the loss value & metrics values for the model in test mode.\n",
        "\n",
        "    print('\\n')\n",
        "    print(\"Evaluate on test data\",'\\n')\n",
        "    results = model.evaluate(X_test, y_test, batch_size=64)\n",
        "    print(\"Test Loss:\",results[0])\n",
        "    print(\"Test Accuracy:\",results[1])\n",
        "\n",
        "    # Generate output predictions for the input samples(probabilities -the output of the last layer) on new data\n",
        "    # (this is for somewhere between training and testing time).\n",
        "    # Use this model to do some feed-forward passes to predict novel inputs.\n",
        "\n",
        "    print('\\n')\n",
        "    predictions = model.predict(X_test)\n",
        "    print(\"predictions shape:\", predictions.shape)\n",
        "    y_pred = (predictions)\n",
        "\n",
        "    #Creating a confusion matrix,which compares the y_test and y_pred\n",
        "    #Note The support column in classification_report is:\n",
        "    #the number of occurrences of each class in y_test.It shows testset distribution\n",
        "    # Plotting training and validation loss graph\n",
        "\n",
        "    results = pd.DataFrame(\n",
        "    confusion_matrix( y_test.argmax(axis=1), y_pred.argmax(axis=1)),\n",
        "    index=['D', 'L', 'Z'],\n",
        "    columns=['D', 'L', 'Z'])\n",
        "\n",
        "    print('-'*80,'\\n')\n",
        "    print('Confusion Matrix of CNN Model', '\\n')\n",
        "    print(results,'\\n')\n",
        "\n",
        "    print('Classification Report : ','\\n')\n",
        "    target_names = ['D-variety', 'L-variety', 'Z-variety']\n",
        "    print (classification_report(y_test.argmax(axis=1),y_pred.argmax(axis=1),target_names=target_names),'\\n')\n",
        "\n",
        "   # Plotting training and validation loss graph\n",
        "    print(\"Plotting Loss and Accuracy Graphs\",'\\n')\n",
        "    plt.plot(history.history['loss'], label='train loss')\n",
        "    plt.plot(history.history['val_loss'], label='val loss')\n",
        "    plt.title('Model Loss')\n",
        "    plt.ylabel('Loss')\n",
        "    plt.xlabel('epoch')\n",
        "    plt.legend()\n",
        "    plt.show()\n",
        "\n",
        "    # Plotting training and validation Accuracy graph\n",
        "    plt.plot(history.history['accuracy'], label='train acc')\n",
        "    plt.plot(history.history['val_accuracy'], label='val acc')\n",
        "    plt.title('Model Accuracy')\n",
        "    plt.ylabel('accuracy')\n",
        "    plt.xlabel('epoch')\n",
        "    plt.legend()\n",
        "    plt.show()\n",
        "\n",
        "    return history.history"
      ]
    },
    {
      "cell_type": "code",
      "execution_count": null,
      "id": "jgtbwzVMNDJt",
      "metadata": {
        "colab": {
          "base_uri": "https://localhost:8080/",
          "height": 196
        },
        "id": "jgtbwzVMNDJt",
        "outputId": "dba22d6a-a4f5-4d17-f488-77385c4f76d5"
      },
      "outputs": [
        {
          "ename": "NameError",
          "evalue": "name 'cnn_model' is not defined",
          "output_type": "error",
          "traceback": [
            "\u001b[0;31m---------------------------------------------------------------------------\u001b[0m",
            "\u001b[0;31mNameError\u001b[0m                                 Traceback (most recent call last)",
            "\u001b[0;32m<ipython-input-53-9bd2ad627019>\u001b[0m in \u001b[0;36m<cell line: 3>\u001b[0;34m()\u001b[0m\n\u001b[1;32m      1\u001b[0m \u001b[0mmax_features\u001b[0m \u001b[0;34m=\u001b[0m \u001b[0mmax_features\u001b[0m\u001b[0;34m\u001b[0m\u001b[0;34m\u001b[0m\u001b[0m\n\u001b[1;32m      2\u001b[0m \u001b[0membedding_dim\u001b[0m \u001b[0;34m=\u001b[0m \u001b[0;36m64\u001b[0m\u001b[0;34m\u001b[0m\u001b[0;34m\u001b[0m\u001b[0m\n\u001b[0;32m----> 3\u001b[0;31m \u001b[0mcnn_model\u001b[0m\u001b[0;34m(\u001b[0m\u001b[0mdrop_out\u001b[0m\u001b[0;34m=\u001b[0m\u001b[0;36m0.7\u001b[0m\u001b[0;34m,\u001b[0m \u001b[0mfilter_one\u001b[0m\u001b[0;34m=\u001b[0m\u001b[0;36m32\u001b[0m\u001b[0;34m,\u001b[0m \u001b[0mfilter_two\u001b[0m\u001b[0;34m=\u001b[0m\u001b[0;36m64\u001b[0m\u001b[0;34m,\u001b[0m\u001b[0mlast_dense\u001b[0m\u001b[0;34m=\u001b[0m\u001b[0;36m64\u001b[0m\u001b[0;34m,\u001b[0m \u001b[0mpadding\u001b[0m\u001b[0;34m=\u001b[0m\u001b[0;34m'same'\u001b[0m\u001b[0;34m,\u001b[0m\u001b[0mlearning_rate\u001b[0m\u001b[0;34m=\u001b[0m\u001b[0;36m1e-6\u001b[0m\u001b[0;34m,\u001b[0m \u001b[0mnum_epochs\u001b[0m\u001b[0;34m=\u001b[0m\u001b[0;36m20\u001b[0m\u001b[0;34m)\u001b[0m\u001b[0;34m\u001b[0m\u001b[0;34m\u001b[0m\u001b[0m\n\u001b[0m",
            "\u001b[0;31mNameError\u001b[0m: name 'cnn_model' is not defined"
          ]
        }
      ],
      "source": [
        "max_features = max_features\n",
        "embedding_dim = 64\n",
        "cnn_model(drop_out=0.7, filter_one=32, filter_two=64,last_dense=64, padding='same',learning_rate=1e-6, num_epochs=20)"
      ]
    },
    {
      "cell_type": "code",
      "execution_count": null,
      "id": "bd4426a6",
      "metadata": {
        "id": "bd4426a6"
      },
      "outputs": [],
      "source": [
        "# Create KerasClassifier model\n",
        "# Then pass the cnn_model function to the build_fn argument when constructing the KerasClassifier class.\n",
        "\n",
        "estimator = KerasClassifier(build_fn=cnn_model, kernel_size=5, epochs=10, batch_size=100, verbose=2)\n"
      ]
    },
    {
      "cell_type": "markdown",
      "id": "9a927745",
      "metadata": {
        "id": "9a927745"
      },
      "source": [
        "The batch size in iterative gradient descent is the number of patterns shown to the network before the weights are updated.\n",
        "It is also an optimization in the training of the network, defining how many patterns to read at a time and keep in memory.\n",
        "\n",
        "The number of epochs is the number of times that the entire training dataset is shown to the network during training.\n",
        "Some networks are sensitive to the batch size, such as LSTM, RNN and CNN.\n",
        "\n",
        "https://machinelearningmastery.com/grid-search-hyperparameters-deep-learning-models-python-keras/\n",
        "    \n",
        "    \n",
        "We would like to fine-tune these hyperparameters: fileters, dropout_rate,number of epochs,batch_size,padding and dense_layer_size.\n",
        "\n",
        "These parameters must be defined in the signature of cnn_model() function with default parameters.\n",
        "\n",
        "https://medium.com/@am.benatmane/keras-hyperparameter-tuning-using-sklearn-pipelines-grid-search-with-cross-validation-ccfc74b0ce9f"
      ]
    },
    {
      "cell_type": "code",
      "execution_count": null,
      "id": "a06fa662",
      "metadata": {
        "id": "a06fa662"
      },
      "outputs": [],
      "source": [
        "# Define the most relevant grid search parameters\n",
        "# A dictionary of hyperparameters to evaluate in the param_grid argument.\n",
        "# This is a map of the model parameter name and an array of values to try.\n",
        "\n",
        "param_grid = {\n",
        "    'filter_one':[32,64,128],\n",
        "    'epochs': [10,20,40,60],\n",
        "    'last_dense':[32,64,128],\n",
        "    'batch_size':[32,64,128],\n",
        "    'drop_out':[0.3, 0.4, 0.5],\n",
        "    'padding':['same','valid']\n",
        "}"
      ]
    },
    {
      "cell_type": "markdown",
      "id": "4fafce49",
      "metadata": {
        "id": "4fafce49"
      },
      "source": [
        "1. estimator : Pass the model instance for which you want to check the hyperparameters.\n",
        "2.params_grid: the dictionary object that holds the hyperparameters you want to try\n",
        "3.scoring: evaluation metric that you want to use, you can simply pass a valid string/ object of evaluation metric\n",
        "4.cv: number of cross-validation you have to try for each selected set of hyperparameters\n",
        "5.verbose: you can set it to 1 to get the detailed print out while you fit the data to GridSearchCV\n",
        "6.n_jobs: number of processes you wish to run in parallel for this task if it -1 it will use all available processors.\n",
        "    \n",
        "https://www.mygreatlearning.com/blog/gridsearchcv/"
      ]
    },
    {
      "cell_type": "code",
      "execution_count": null,
      "id": "1e42b89b",
      "metadata": {
        "id": "1e42b89b"
      },
      "outputs": [],
      "source": [
        "# Conduct grid search with Kfold cross validation\n",
        "# We use Kfold cross validation to check how well our model is able to generalize the unseen data\n",
        "#Grid search is a model hyperparameter optimization technique.\n",
        "# By default, accuracy is the score that is optimized,\n",
        "# but other scores can be specified in the score argument of the GridSearchCV constructor.\n",
        "#By default, the grid search will only use one thread.\n",
        "# By setting the n_jobs argument in the GridSearchCV constructor to -1, the process will use all core processors on your machine.\n",
        "# Depending on your Keras backend, this may interfere with the main neural network training process.\n",
        "\n",
        "grid = GridSearchCV(estimator=estimator,\n",
        "                    n_jobs=-1,\n",
        "                    verbose=2,\n",
        "                    return_train_score=True,\n",
        "                    scoring=['accuracy','precision_macro','recall_macro'],\n",
        "                    refit='precision_macro',\n",
        "                    cv=5,\n",
        "                    param_grid=param_grid)"
      ]
    },
    {
      "cell_type": "markdown",
      "id": "b61cae71",
      "metadata": {
        "id": "b61cae71"
      },
      "source": [
        "sklearn.model_selection.GridSearchCV\n",
        "https://scikit-learn.org/stable/modules/generated/sklearn.model_selection.GridSearchCV.html"
      ]
    },
    {
      "cell_type": "code",
      "execution_count": null,
      "id": "f07b7340",
      "metadata": {
        "colab": {
          "background_save": true,
          "base_uri": "https://localhost:8080/",
          "height": 249
        },
        "id": "f07b7340",
        "outputId": "e1523cdb-bfd7-4fd0-833e-0a78996db2a0"
      },
      "outputs": [
        {
          "ename": "NameError",
          "evalue": "ignored",
          "output_type": "error",
          "traceback": [
            "\u001b[0;31m---------------------------------------------------------------------------\u001b[0m",
            "\u001b[0;31mNameError\u001b[0m                                 Traceback (most recent call last)",
            "\u001b[0;32m<ipython-input-9-05309ebcccaf>\u001b[0m in \u001b[0;36m<module>\u001b[0;34m()\u001b[0m\n\u001b[1;32m      1\u001b[0m \u001b[0;31m#  access the outcome of the grid search in the result object returned from grid.fit().\u001b[0m\u001b[0;34m\u001b[0m\u001b[0;34m\u001b[0m\u001b[0;34m\u001b[0m\u001b[0m\n\u001b[1;32m      2\u001b[0m \u001b[0;34m\u001b[0m\u001b[0m\n\u001b[0;32m----> 3\u001b[0;31m \u001b[0mgrid_result\u001b[0m \u001b[0;34m=\u001b[0m \u001b[0mgrid\u001b[0m\u001b[0;34m.\u001b[0m\u001b[0mfit\u001b[0m\u001b[0;34m(\u001b[0m\u001b[0mX_train\u001b[0m\u001b[0;34m,\u001b[0m \u001b[0my_train\u001b[0m\u001b[0;34m,\u001b[0m \u001b[0mverbose\u001b[0m\u001b[0;34m=\u001b[0m\u001b[0;36m2\u001b[0m\u001b[0;34m)\u001b[0m\u001b[0;34m\u001b[0m\u001b[0;34m\u001b[0m\u001b[0m\n\u001b[0m\u001b[1;32m      4\u001b[0m \u001b[0;34m\u001b[0m\u001b[0m\n\u001b[1;32m      5\u001b[0m \u001b[0;31m# summarize results\u001b[0m\u001b[0;34m\u001b[0m\u001b[0;34m\u001b[0m\u001b[0;34m\u001b[0m\u001b[0m\n",
            "\u001b[0;31mNameError\u001b[0m: name 'X_train' is not defined"
          ]
        }
      ],
      "source": [
        "#  access the outcome of the grid search in the result object returned from grid.fit().\n",
        "\n",
        "grid_result = grid.fit(X_train, y_train, verbose=2)\n",
        "\n",
        "# summarize results\n",
        "# The best_score_ member provides access to the best score observed during the optimization procedure\n",
        "# and the best_params_ describes the combination of parameters that achieved the best results\n",
        "\n",
        "\n",
        "print(\"Best: %f using %s\" % (grid_result.best_score_, grid_result.best_params_))\n",
        "means = grid_result.cv_results_['mean_test_score']\n",
        "stds = grid_result.cv_results_['std_test_score']\n",
        "params = grid_result.cv_results_['params']\n",
        "for mean, stdev, param in zip(means, stds, params):\n",
        "    print(\"%f (%f) with: %r\" % (mean, stdev, param))"
      ]
    },
    {
      "cell_type": "code",
      "execution_count": null,
      "id": "ae3b0fac",
      "metadata": {
        "id": "ae3b0fac"
      },
      "outputs": [],
      "source": [
        "def run_experiments():\n",
        "    # grid search\n",
        "    drop_outs = (0.3,0.4,0.5,0.6, 0.7)\n",
        "    filters_one = (32, 64, 128,256)\n",
        "    filters_two = (32, 64, 128,256)\n",
        "    last_dense_layers = (32, 64, 128,256)\n",
        "    paddings = ('same', 'valid')\n",
        "\n",
        "    results = []\n",
        "    for drop_out in drop_outs:\n",
        "        for filter_one in filters_one[:-1]:\n",
        "            for filter_two in filters_two:\n",
        "                for last_dense in last_dense_layers:\n",
        "                    for padding in paddings:\n",
        "                        res = cnn_bilstm_model(drop_out, filter_one, filter_two, last_dense, padding,num_epochs=50)\n",
        "                        #res = 'running ...'\n",
        "                        results.append({'drop_out': drop_out,\n",
        "                                   'filter_one': filter_one,\n",
        "                                   'filter_two': filter_two,\n",
        "                                    'last_dense': last_dense,\n",
        "                                    'padding': padding,\n",
        "                                    'history': res})\n",
        "    return results"
      ]
    },
    {
      "cell_type": "code",
      "execution_count": null,
      "id": "5fdf0547",
      "metadata": {
        "id": "5fdf0547",
        "scrolled": false
      },
      "outputs": [],
      "source": [
        "#r = run_experiments()"
      ]
    },
    {
      "cell_type": "code",
      "execution_count": null,
      "id": "8dc1632d",
      "metadata": {
        "id": "8dc1632d"
      },
      "outputs": [],
      "source": [
        "# Combination of CNN and BI-LSTM models\n",
        "\n",
        "def cnn_bilstm_model(drop_out, filter_one, filter_two, last_dense, padding, num_epochs):\n",
        "    # create a CNN model\n",
        "    model = tf.keras.Sequential([\n",
        "        # Add an Embedding layer expecting input vocab of size 5000, and output embedding dimension of size 64 we set at the top\n",
        "        tf.keras.layers.Embedding(max_features+2,embedding_dim,input_shape=(500,)),\n",
        "\n",
        "        # use ReLU in place of tanh function since they are very good alternatives of each other\n",
        "\n",
        "        tf.keras.layers.Conv1D(filters=filter_one, kernel_size=3, padding=padding, activation='relu'),\n",
        "        tf.keras.layers.MaxPool1D(pool_size=4),\n",
        "\n",
        "        # During the training of our model, we randomly cause some of the neurons to be excluded\n",
        "        # from the neural network (i.e. drop out) at each step with a fixed probability.\n",
        "        tf.keras.layers.Dropout(drop_out),\n",
        "\n",
        "\n",
        "        tf.keras.layers.Conv1D(filters=filter_two, kernel_size=3, padding=padding, activation='relu'),\n",
        "        tf.keras.layers.MaxPool1D(pool_size=4),\n",
        "        tf.keras.layers.Dropout(drop_out),\n",
        "\n",
        "\n",
        "        tf.keras.layers.Bidirectional(tf.keras.layers.LSTM(32)),\n",
        "        tf.keras.layers.Dropout(drop_out),\n",
        "        tf.keras.layers.Dense(last_dense, activation='relu'), #check with and without this layer\n",
        "\n",
        "        # Add a Dense layer with 3 units and softmax activation.\n",
        "        # When we have multiple outputs, softmax convert outputs layers into a probability distribution.\n",
        "        tf.keras.layers.Dense(num_classes, activation='softmax')\n",
        "    ])\n",
        "    model.summary()\n",
        "\n",
        "    # Decide a model architecture, this is the number of hidden layers and activation functions, etc.\n",
        "\n",
        "    model.compile(loss='categorical_crossentropy', optimizer='adam', metrics=['accuracy'])\n",
        "    plot_model(model, to_file='./CNN-BiLSTM_model_plot.png', show_shapes=True, show_layer_names=True)\n",
        "\n",
        "\n",
        "    #history = model.fit(X_train, y_train, epochs=num_epochs,validation_data=(X_test, y_test),callbacks=[es], verbose=0)\n",
        "\n",
        "\n",
        "    # simple early stopping\n",
        "    #es = EarlyStopping(monitor='val_loss', mode='min', verbose=1, patience=10)\n",
        "\n",
        "    # The ModelCheckpoint callback class allows you to define where to checkpoint the model weights,\n",
        "    # how the file should named and under what circumstances to make a checkpoint of the model.\n",
        "\n",
        "    checkpointer = ModelCheckpoint(filepath='./best_CNN-BiLSTM_checkpoint.hdf5',\n",
        "                                   monitor='val_accuracy', verbose=1,\n",
        "                                   save_best_only=True,\n",
        "                                   save_weights_only=False,\n",
        "                                   mode='max',\n",
        "                                   save_freq=\"epoch\")\n",
        "\n",
        "    # Train the model for a given number of epochs(this is for training time, with the training dataset).\n",
        "    # Train our model to get all the paramters to the correct value to map our inputs to our outputs.\n",
        "    # The model is evaluated on the validation dataset at the end of each training epoch.\n",
        "    # The function is called ‘fit’ as we are fitting the parameters to the data.\n",
        "    history = model.fit(X_train, y_train, epochs=num_epochs,validation_data=(X_test, y_test), verbose=2,callbacks=[checkpointer])\n",
        "\n",
        "\n",
        "    # Evaluate the model on the test data (this is for testing time, with the testing dataset)\n",
        "    # Returns the loss value & metrics values for the model in test mode.\n",
        "\n",
        "    print('\\n')\n",
        "    print(\"Evaluate on test data\",'\\n')\n",
        "    test_results = model.evaluate(X_test, y_test,batch_size=64)\n",
        "    print(\"Test Loss:\",test_results[0])\n",
        "    print(\"Test Accuracy:\",test_results[1])\n",
        "\n",
        "    # evaluate the model\n",
        "    #_, train_acc = model.evaluate(X_train, y_train, verbose=0)\n",
        "    #_, test_acc =  model.evaluate(X_test, y_test, verbose=0)\n",
        "    #print('Train: %.3f, Test: %.3f' % (train_acc, test_acc))\n",
        "\n",
        "    # Generate output predictions for the input samples(probabilities -the output of the last layer) on new data\n",
        "    # (this is for somewhere between training and testing time).\n",
        "    # Use this model to do some feed-forward passes to predict novel inputs.\n",
        "\n",
        "    print('\\n')\n",
        "    predictions = model.predict(X_test)\n",
        "    print(\"predictions shape:\", predictions.shape)\n",
        "    y_pred = (predictions)\n",
        "\n",
        "    #Creating a confusion matrix,which compares the y_test and y_pred\n",
        "    #Note The support column in classification_report is:\n",
        "    #the number of occurrences of each class in y_test.It shows testset distribution\n",
        "    # Plotting training and validation loss graph\n",
        "\n",
        "    results = pd.DataFrame(\n",
        "    confusion_matrix( y_test.argmax(axis=1), y_pred.argmax(axis=1)),\n",
        "    index=['D', 'L', 'Z'],\n",
        "    columns=['D', 'L', 'Z'])\n",
        "\n",
        "    print('-'*80,'\\n')\n",
        "    print('Confusion Matrix of Hybrid CNN and Bi-LSTM Model', '\\n')\n",
        "    print(results,'\\n')\n",
        "\n",
        "    print('Classification Report : ','\\n')\n",
        "    target_names = ['D-variety', 'L-variety', 'Z-variety']\n",
        "    print (classification_report(y_test.argmax(axis=1),y_pred.argmax(axis=1),target_names=target_names),'\\n')\n",
        "\n",
        "\n",
        "    # Plotting training and validation loss graph\n",
        "    print(\"Training and Validation Loss Graph\")\n",
        "    plt.plot(history.history['loss'], label='train loss')\n",
        "    plt.plot(history.history['val_loss'], label='val loss')\n",
        "    plt.title('Model Loss')\n",
        "    plt.ylabel('Loss')\n",
        "    plt.xlabel('epoch')\n",
        "    plt.legend()\n",
        "    plt.show()\n",
        "\n",
        "    # Plotting training and validation Accuracy graph\n",
        "    plt.plot(history.history['accuracy'], label='train acc')\n",
        "    plt.plot(history.history['val_accuracy'], label='val acc')\n",
        "    plt.title('Model Accuracy')\n",
        "    plt.ylabel('accuracy')\n",
        "    plt.xlabel('epoch')\n",
        "    plt.legend()\n",
        "    plt.show()\n",
        "\n",
        "    return history.history"
      ]
    },
    {
      "cell_type": "code",
      "execution_count": null,
      "id": "bc5c6603",
      "metadata": {
        "colab": {
          "base_uri": "https://localhost:8080/",
          "height": 1000
        },
        "id": "bc5c6603",
        "outputId": "80141c3f-34c1-4d5d-f3f5-630e6373b8ce",
        "scrolled": false
      },
      "outputs": [
        {
          "name": "stdout",
          "output_type": "stream",
          "text": [
            "Model: \"sequential_5\"\n",
            "_________________________________________________________________\n",
            "Layer (type)                 Output Shape              Param #   \n",
            "=================================================================\n",
            "embedding_5 (Embedding)      (None, 500, 64)           1280128   \n",
            "_________________________________________________________________\n",
            "conv1d_10 (Conv1D)           (None, 500, 128)          24704     \n",
            "_________________________________________________________________\n",
            "max_pooling1d_4 (MaxPooling1 (None, 125, 128)          0         \n",
            "_________________________________________________________________\n",
            "dropout_12 (Dropout)         (None, 125, 128)          0         \n",
            "_________________________________________________________________\n",
            "conv1d_11 (Conv1D)           (None, 125, 64)           24640     \n",
            "_________________________________________________________________\n",
            "max_pooling1d_5 (MaxPooling1 (None, 31, 64)            0         \n",
            "_________________________________________________________________\n",
            "dropout_13 (Dropout)         (None, 31, 64)            0         \n",
            "_________________________________________________________________\n",
            "bidirectional_2 (Bidirection (None, 64)                24832     \n",
            "_________________________________________________________________\n",
            "dropout_14 (Dropout)         (None, 64)                0         \n",
            "_________________________________________________________________\n",
            "dense_10 (Dense)             (None, 64)                4160      \n",
            "_________________________________________________________________\n",
            "dense_11 (Dense)             (None, 3)                 195       \n",
            "=================================================================\n",
            "Total params: 1,358,659\n",
            "Trainable params: 1,358,659\n",
            "Non-trainable params: 0\n",
            "_________________________________________________________________\n",
            "Epoch 1/60\n",
            "200/200 - 11s - loss: 0.9992 - accuracy: 0.4410 - val_loss: 0.6793 - val_accuracy: 0.7467\n",
            "\n",
            "Epoch 00001: val_accuracy improved from -inf to 0.74671, saving model to ./best_CNN-BiLSTM_checkpoint.hdf5\n",
            "Epoch 2/60\n",
            "200/200 - 6s - loss: 0.5233 - accuracy: 0.7891 - val_loss: 0.3622 - val_accuracy: 0.8627\n",
            "\n",
            "Epoch 00002: val_accuracy improved from 0.74671 to 0.86270, saving model to ./best_CNN-BiLSTM_checkpoint.hdf5\n",
            "Epoch 3/60\n",
            "200/200 - 6s - loss: 0.4035 - accuracy: 0.8413 - val_loss: 0.3254 - val_accuracy: 0.8715\n",
            "\n",
            "Epoch 00003: val_accuracy improved from 0.86270 to 0.87147, saving model to ./best_CNN-BiLSTM_checkpoint.hdf5\n",
            "Epoch 4/60\n",
            "200/200 - 6s - loss: 0.3419 - accuracy: 0.8683 - val_loss: 0.2862 - val_accuracy: 0.8934\n",
            "\n",
            "Epoch 00004: val_accuracy improved from 0.87147 to 0.89342, saving model to ./best_CNN-BiLSTM_checkpoint.hdf5\n",
            "Epoch 5/60\n",
            "200/200 - 6s - loss: 0.2999 - accuracy: 0.8828 - val_loss: 0.2864 - val_accuracy: 0.8940\n",
            "\n",
            "Epoch 00005: val_accuracy improved from 0.89342 to 0.89404, saving model to ./best_CNN-BiLSTM_checkpoint.hdf5\n",
            "Epoch 6/60\n",
            "200/200 - 6s - loss: 0.2749 - accuracy: 0.8974 - val_loss: 0.3181 - val_accuracy: 0.8734\n",
            "\n",
            "Epoch 00006: val_accuracy did not improve from 0.89404\n",
            "Epoch 7/60\n",
            "200/200 - 6s - loss: 0.2494 - accuracy: 0.9046 - val_loss: 0.2666 - val_accuracy: 0.8984\n",
            "\n",
            "Epoch 00007: val_accuracy improved from 0.89404 to 0.89843, saving model to ./best_CNN-BiLSTM_checkpoint.hdf5\n",
            "Epoch 8/60\n",
            "200/200 - 6s - loss: 0.2337 - accuracy: 0.9117 - val_loss: 0.2419 - val_accuracy: 0.9041\n",
            "\n",
            "Epoch 00008: val_accuracy improved from 0.89843 to 0.90408, saving model to ./best_CNN-BiLSTM_checkpoint.hdf5\n",
            "Epoch 9/60\n",
            "200/200 - 6s - loss: 0.2314 - accuracy: 0.9064 - val_loss: 0.2294 - val_accuracy: 0.9135\n",
            "\n",
            "Epoch 00009: val_accuracy improved from 0.90408 to 0.91348, saving model to ./best_CNN-BiLSTM_checkpoint.hdf5\n",
            "Epoch 10/60\n",
            "200/200 - 6s - loss: 0.2120 - accuracy: 0.9169 - val_loss: 0.2621 - val_accuracy: 0.8953\n",
            "\n",
            "Epoch 00010: val_accuracy did not improve from 0.91348\n",
            "Epoch 11/60\n",
            "200/200 - 6s - loss: 0.2010 - accuracy: 0.9221 - val_loss: 0.2319 - val_accuracy: 0.9135\n",
            "\n",
            "Epoch 00011: val_accuracy did not improve from 0.91348\n",
            "Epoch 12/60\n",
            "200/200 - 6s - loss: 0.1995 - accuracy: 0.9280 - val_loss: 0.2435 - val_accuracy: 0.9072\n",
            "\n",
            "Epoch 00012: val_accuracy did not improve from 0.91348\n",
            "Epoch 13/60\n",
            "200/200 - 6s - loss: 0.1839 - accuracy: 0.9261 - val_loss: 0.2694 - val_accuracy: 0.8915\n",
            "\n",
            "Epoch 00013: val_accuracy did not improve from 0.91348\n",
            "Epoch 14/60\n",
            "200/200 - 6s - loss: 0.1840 - accuracy: 0.9307 - val_loss: 0.2842 - val_accuracy: 0.8909\n",
            "\n",
            "Epoch 00014: val_accuracy did not improve from 0.91348\n",
            "Epoch 15/60\n",
            "200/200 - 6s - loss: 0.1688 - accuracy: 0.9333 - val_loss: 0.2182 - val_accuracy: 0.9135\n",
            "\n",
            "Epoch 00015: val_accuracy did not improve from 0.91348\n",
            "Epoch 16/60\n",
            "200/200 - 6s - loss: 0.1692 - accuracy: 0.9382 - val_loss: 0.2145 - val_accuracy: 0.9078\n",
            "\n",
            "Epoch 00016: val_accuracy did not improve from 0.91348\n",
            "Epoch 17/60\n",
            "200/200 - 6s - loss: 0.1631 - accuracy: 0.9343 - val_loss: 0.2159 - val_accuracy: 0.9141\n",
            "\n",
            "Epoch 00017: val_accuracy improved from 0.91348 to 0.91411, saving model to ./best_CNN-BiLSTM_checkpoint.hdf5\n",
            "Epoch 18/60\n",
            "200/200 - 6s - loss: 0.1497 - accuracy: 0.9456 - val_loss: 0.2462 - val_accuracy: 0.9016\n",
            "\n",
            "Epoch 00018: val_accuracy did not improve from 0.91411\n",
            "Epoch 19/60\n",
            "200/200 - 6s - loss: 0.1571 - accuracy: 0.9396 - val_loss: 0.2302 - val_accuracy: 0.9034\n",
            "\n",
            "Epoch 00019: val_accuracy did not improve from 0.91411\n",
            "Epoch 20/60\n",
            "200/200 - 6s - loss: 0.1469 - accuracy: 0.9460 - val_loss: 0.2425 - val_accuracy: 0.9135\n",
            "\n",
            "Epoch 00020: val_accuracy did not improve from 0.91411\n",
            "Epoch 21/60\n",
            "200/200 - 6s - loss: 0.1512 - accuracy: 0.9453 - val_loss: 0.2114 - val_accuracy: 0.9160\n",
            "\n",
            "Epoch 00021: val_accuracy improved from 0.91411 to 0.91599, saving model to ./best_CNN-BiLSTM_checkpoint.hdf5\n",
            "Epoch 22/60\n",
            "200/200 - 6s - loss: 0.1449 - accuracy: 0.9449 - val_loss: 0.2366 - val_accuracy: 0.9135\n",
            "\n",
            "Epoch 00022: val_accuracy did not improve from 0.91599\n",
            "Epoch 23/60\n",
            "200/200 - 6s - loss: 0.1417 - accuracy: 0.9470 - val_loss: 0.2231 - val_accuracy: 0.9122\n",
            "\n",
            "Epoch 00023: val_accuracy did not improve from 0.91599\n",
            "Epoch 24/60\n",
            "200/200 - 6s - loss: 0.1385 - accuracy: 0.9476 - val_loss: 0.2175 - val_accuracy: 0.9179\n",
            "\n",
            "Epoch 00024: val_accuracy improved from 0.91599 to 0.91787, saving model to ./best_CNN-BiLSTM_checkpoint.hdf5\n",
            "Epoch 25/60\n",
            "200/200 - 6s - loss: 0.1346 - accuracy: 0.9511 - val_loss: 0.2584 - val_accuracy: 0.9022\n",
            "\n",
            "Epoch 00025: val_accuracy did not improve from 0.91787\n",
            "Epoch 26/60\n",
            "200/200 - 6s - loss: 0.1387 - accuracy: 0.9497 - val_loss: 0.2239 - val_accuracy: 0.9135\n",
            "\n",
            "Epoch 00026: val_accuracy did not improve from 0.91787\n",
            "Epoch 27/60\n",
            "200/200 - 6s - loss: 0.1385 - accuracy: 0.9482 - val_loss: 0.2374 - val_accuracy: 0.9129\n",
            "\n",
            "Epoch 00027: val_accuracy did not improve from 0.91787\n",
            "Epoch 28/60\n",
            "200/200 - 6s - loss: 0.1346 - accuracy: 0.9495 - val_loss: 0.2143 - val_accuracy: 0.9166\n",
            "\n",
            "Epoch 00028: val_accuracy did not improve from 0.91787\n",
            "Epoch 29/60\n",
            "200/200 - 6s - loss: 0.1262 - accuracy: 0.9514 - val_loss: 0.2697 - val_accuracy: 0.9060\n",
            "\n",
            "Epoch 00029: val_accuracy did not improve from 0.91787\n",
            "Epoch 30/60\n",
            "200/200 - 6s - loss: 0.1248 - accuracy: 0.9534 - val_loss: 0.2369 - val_accuracy: 0.9154\n",
            "\n",
            "Epoch 00030: val_accuracy did not improve from 0.91787\n",
            "Epoch 31/60\n",
            "200/200 - 6s - loss: 0.1212 - accuracy: 0.9533 - val_loss: 0.2443 - val_accuracy: 0.9066\n",
            "\n",
            "Epoch 00031: val_accuracy did not improve from 0.91787\n",
            "Epoch 32/60\n",
            "200/200 - 6s - loss: 0.1153 - accuracy: 0.9562 - val_loss: 0.2234 - val_accuracy: 0.9141\n",
            "\n",
            "Epoch 00032: val_accuracy did not improve from 0.91787\n",
            "Epoch 33/60\n",
            "200/200 - 6s - loss: 0.1168 - accuracy: 0.9570 - val_loss: 0.2503 - val_accuracy: 0.9097\n",
            "\n",
            "Epoch 00033: val_accuracy did not improve from 0.91787\n",
            "Epoch 34/60\n",
            "200/200 - 6s - loss: 0.1197 - accuracy: 0.9550 - val_loss: 0.2569 - val_accuracy: 0.9053\n",
            "\n",
            "Epoch 00034: val_accuracy did not improve from 0.91787\n",
            "Epoch 35/60\n",
            "200/200 - 6s - loss: 0.1196 - accuracy: 0.9525 - val_loss: 0.2577 - val_accuracy: 0.9047\n",
            "\n",
            "Epoch 00035: val_accuracy did not improve from 0.91787\n",
            "Epoch 36/60\n",
            "200/200 - 6s - loss: 0.1131 - accuracy: 0.9578 - val_loss: 0.2415 - val_accuracy: 0.9166\n",
            "\n",
            "Epoch 00036: val_accuracy did not improve from 0.91787\n",
            "Epoch 37/60\n",
            "200/200 - 6s - loss: 0.1205 - accuracy: 0.9540 - val_loss: 0.2497 - val_accuracy: 0.9028\n",
            "\n",
            "Epoch 00037: val_accuracy did not improve from 0.91787\n",
            "Epoch 38/60\n",
            "200/200 - 6s - loss: 0.1158 - accuracy: 0.9588 - val_loss: 0.2291 - val_accuracy: 0.9129\n",
            "\n",
            "Epoch 00038: val_accuracy did not improve from 0.91787\n",
            "Epoch 39/60\n",
            "200/200 - 6s - loss: 0.1128 - accuracy: 0.9580 - val_loss: 0.2552 - val_accuracy: 0.9097\n",
            "\n",
            "Epoch 00039: val_accuracy did not improve from 0.91787\n",
            "Epoch 40/60\n",
            "200/200 - 6s - loss: 0.1082 - accuracy: 0.9591 - val_loss: 0.2474 - val_accuracy: 0.9091\n",
            "\n",
            "Epoch 00040: val_accuracy did not improve from 0.91787\n",
            "Epoch 41/60\n",
            "200/200 - 6s - loss: 0.1135 - accuracy: 0.9580 - val_loss: 0.2491 - val_accuracy: 0.9179\n",
            "\n",
            "Epoch 00041: val_accuracy did not improve from 0.91787\n",
            "Epoch 42/60\n",
            "200/200 - 6s - loss: 0.1110 - accuracy: 0.9597 - val_loss: 0.2208 - val_accuracy: 0.9172\n",
            "\n",
            "Epoch 00042: val_accuracy did not improve from 0.91787\n",
            "Epoch 43/60\n",
            "200/200 - 6s - loss: 0.1022 - accuracy: 0.9635 - val_loss: 0.2336 - val_accuracy: 0.9235\n",
            "\n",
            "Epoch 00043: val_accuracy improved from 0.91787 to 0.92351, saving model to ./best_CNN-BiLSTM_checkpoint.hdf5\n",
            "Epoch 44/60\n",
            "200/200 - 6s - loss: 0.0967 - accuracy: 0.9625 - val_loss: 0.2576 - val_accuracy: 0.9091\n",
            "\n",
            "Epoch 00044: val_accuracy did not improve from 0.92351\n",
            "Epoch 45/60\n",
            "200/200 - 6s - loss: 0.1065 - accuracy: 0.9638 - val_loss: 0.2547 - val_accuracy: 0.9072\n",
            "\n",
            "Epoch 00045: val_accuracy did not improve from 0.92351\n",
            "Epoch 46/60\n",
            "200/200 - 6s - loss: 0.0966 - accuracy: 0.9624 - val_loss: 0.2569 - val_accuracy: 0.9122\n",
            "\n",
            "Epoch 00046: val_accuracy did not improve from 0.92351\n",
            "Epoch 47/60\n",
            "200/200 - 6s - loss: 0.1082 - accuracy: 0.9606 - val_loss: 0.2439 - val_accuracy: 0.9103\n",
            "\n",
            "Epoch 00047: val_accuracy did not improve from 0.92351\n",
            "Epoch 48/60\n",
            "200/200 - 6s - loss: 0.1004 - accuracy: 0.9625 - val_loss: 0.2648 - val_accuracy: 0.9097\n",
            "\n",
            "Epoch 00048: val_accuracy did not improve from 0.92351\n",
            "Epoch 49/60\n",
            "200/200 - 6s - loss: 0.1074 - accuracy: 0.9598 - val_loss: 0.2381 - val_accuracy: 0.9147\n",
            "\n",
            "Epoch 00049: val_accuracy did not improve from 0.92351\n",
            "Epoch 50/60\n",
            "200/200 - 6s - loss: 0.0954 - accuracy: 0.9655 - val_loss: 0.2500 - val_accuracy: 0.9116\n",
            "\n",
            "Epoch 00050: val_accuracy did not improve from 0.92351\n",
            "Epoch 51/60\n",
            "200/200 - 6s - loss: 0.0889 - accuracy: 0.9691 - val_loss: 0.2612 - val_accuracy: 0.9122\n",
            "\n",
            "Epoch 00051: val_accuracy did not improve from 0.92351\n",
            "Epoch 52/60\n",
            "200/200 - 6s - loss: 0.1000 - accuracy: 0.9639 - val_loss: 0.2423 - val_accuracy: 0.9135\n",
            "\n",
            "Epoch 00052: val_accuracy did not improve from 0.92351\n",
            "Epoch 53/60\n",
            "200/200 - 6s - loss: 0.0983 - accuracy: 0.9657 - val_loss: 0.2310 - val_accuracy: 0.9078\n",
            "\n",
            "Epoch 00053: val_accuracy did not improve from 0.92351\n",
            "Epoch 54/60\n",
            "200/200 - 6s - loss: 0.0961 - accuracy: 0.9647 - val_loss: 0.2346 - val_accuracy: 0.9091\n",
            "\n",
            "Epoch 00054: val_accuracy did not improve from 0.92351\n",
            "Epoch 55/60\n",
            "200/200 - 6s - loss: 0.0945 - accuracy: 0.9650 - val_loss: 0.2478 - val_accuracy: 0.9122\n",
            "\n",
            "Epoch 00055: val_accuracy did not improve from 0.92351\n",
            "Epoch 56/60\n",
            "200/200 - 6s - loss: 0.1046 - accuracy: 0.9638 - val_loss: 0.2214 - val_accuracy: 0.9210\n",
            "\n",
            "Epoch 00056: val_accuracy did not improve from 0.92351\n",
            "Epoch 57/60\n",
            "200/200 - 6s - loss: 0.0933 - accuracy: 0.9675 - val_loss: 0.2273 - val_accuracy: 0.9122\n",
            "\n",
            "Epoch 00057: val_accuracy did not improve from 0.92351\n",
            "Epoch 58/60\n",
            "200/200 - 6s - loss: 0.0895 - accuracy: 0.9671 - val_loss: 0.2279 - val_accuracy: 0.9166\n",
            "\n",
            "Epoch 00058: val_accuracy did not improve from 0.92351\n",
            "Epoch 59/60\n",
            "200/200 - 6s - loss: 0.0915 - accuracy: 0.9657 - val_loss: 0.2439 - val_accuracy: 0.9097\n",
            "\n",
            "Epoch 00059: val_accuracy did not improve from 0.92351\n",
            "Epoch 60/60\n",
            "200/200 - 6s - loss: 0.1000 - accuracy: 0.9635 - val_loss: 0.2260 - val_accuracy: 0.9141\n",
            "\n",
            "Epoch 00060: val_accuracy did not improve from 0.92351\n",
            "\n",
            "\n",
            "Evaluate on test data \n",
            "\n",
            "25/25 [==============================] - 0s 16ms/step - loss: 0.2260 - accuracy: 0.9141\n",
            "Test Loss: 0.22599178552627563\n",
            "Test Accuracy: 0.9141066074371338\n",
            "\n",
            "\n",
            "predictions shape: (1595, 3)\n",
            "-------------------------------------------------------------------------------- \n",
            "\n",
            "Confusion Matrix of Hybrid CNN and Bi-LSTM Model \n",
            "\n",
            "     D    L    Z\n",
            "D  549   25    2\n",
            "L   30  441   30\n",
            "Z   13   37  468 \n",
            "\n",
            "Classification Report :  \n",
            "\n",
            "              precision    recall  f1-score   support\n",
            "\n",
            "   D-variety       0.93      0.95      0.94       576\n",
            "   L-variety       0.88      0.88      0.88       501\n",
            "   Z-variety       0.94      0.90      0.92       518\n",
            "\n",
            "    accuracy                           0.91      1595\n",
            "   macro avg       0.91      0.91      0.91      1595\n",
            "weighted avg       0.91      0.91      0.91      1595\n",
            " \n",
            "\n",
            "Training and Validation Loss Graph\n"
          ]
        },
        {
          "data": {
            "image/png": "[encoded data removed]",
            "text/plain": [
              "<Figure size 432x288 with 1 Axes>"
            ]
          },
          "metadata": {},
          "output_type": "display_data"
        },
        {
          "data": {
            "image/png": "[encoded data removed]",
            "text/plain": [
              "<Figure size 432x288 with 1 Axes>"
            ]
          },
          "metadata": {},
          "output_type": "display_data"
        },
        {
          "data": {
            "text/plain": [
              "{'accuracy': [0.4410288631916046,\n",
              "  0.7890527248382568,\n",
              "  0.8412798047065735,\n",
              "  0.8682559728622437,\n",
              "  0.8828418850898743,\n",
              "  0.8974278569221497,\n",
              "  0.9046424031257629,\n",
              "  0.9117001295089722,\n",
              "  0.9063675999641418,\n",
              "  0.9168757796287537,\n",
              "  0.9220514297485352,\n",
              "  0.9280112981796265,\n",
              "  0.9261292219161987,\n",
              "  0.9306775331497192,\n",
              "  0.933343768119812,\n",
              "  0.9382057785987854,\n",
              "  0.9342848062515259,\n",
              "  0.9455771446228027,\n",
              "  0.9396173357963562,\n",
              "  0.9460476636886597,\n",
              "  0.9452635049819946,\n",
              "  0.9449498057365417,\n",
              "  0.9469887018203735,\n",
              "  0.9476160407066345,\n",
              "  0.9510664939880371,\n",
              "  0.9496549367904663,\n",
              "  0.9482434391975403,\n",
              "  0.9494981169700623,\n",
              "  0.95138019323349,\n",
              "  0.9534190893173218,\n",
              "  0.953262209892273,\n",
              "  0.9562421441078186,\n",
              "  0.9570263624191284,\n",
              "  0.9549874663352966,\n",
              "  0.9524780511856079,\n",
              "  0.9578105211257935,\n",
              "  0.9540464282035828,\n",
              "  0.9587515592575073,\n",
              "  0.9579674005508423,\n",
              "  0.9590652585029602,\n",
              "  0.9579674005508423,\n",
              "  0.9596925973892212,\n",
              "  0.9634566903114319,\n",
              "  0.9625157117843628,\n",
              "  0.9637703895568848,\n",
              "  0.962358832359314,\n",
              "  0.9606336355209351,\n",
              "  0.9625157117843628,\n",
              "  0.9598494172096252,\n",
              "  0.9654955863952637,\n",
              "  0.9691028594970703,\n",
              "  0.9639272093772888,\n",
              "  0.9656524658203125,\n",
              "  0.9647114276885986,\n",
              "  0.9650250673294067,\n",
              "  0.9637703895568848,\n",
              "  0.9675344824790955,\n",
              "  0.9670639634132385,\n",
              "  0.9656524658203125,\n",
              "  0.9634566903114319],\n",
              " 'loss': [0.999164342880249,\n",
              "  0.5233393311500549,\n",
              "  0.4034651219844818,\n",
              "  0.3418709933757782,\n",
              "  0.2998908758163452,\n",
              "  0.2749468982219696,\n",
              "  0.24938344955444336,\n",
              "  0.23370009660720825,\n",
              "  0.2314036339521408,\n",
              "  0.21202227473258972,\n",
              "  0.20096252858638763,\n",
              "  0.19954843819141388,\n",
              "  0.18387313187122345,\n",
              "  0.18396995961666107,\n",
              "  0.16875477135181427,\n",
              "  0.16917115449905396,\n",
              "  0.1630970537662506,\n",
              "  0.1496993601322174,\n",
              "  0.15711387991905212,\n",
              "  0.14691714942455292,\n",
              "  0.1511925458908081,\n",
              "  0.14490902423858643,\n",
              "  0.14169029891490936,\n",
              "  0.1384851336479187,\n",
              "  0.13456973433494568,\n",
              "  0.1386624127626419,\n",
              "  0.1384800225496292,\n",
              "  0.1346110999584198,\n",
              "  0.12622499465942383,\n",
              "  0.124842070043087,\n",
              "  0.12119446694850922,\n",
              "  0.11525512486696243,\n",
              "  0.11683028936386108,\n",
              "  0.11971054971218109,\n",
              "  0.11958503723144531,\n",
              "  0.11311528086662292,\n",
              "  0.1205110177397728,\n",
              "  0.11583086848258972,\n",
              "  0.1127503514289856,\n",
              "  0.10819729417562485,\n",
              "  0.11348997801542282,\n",
              "  0.11104413121938705,\n",
              "  0.10219766199588776,\n",
              "  0.0967339351773262,\n",
              "  0.10646392405033112,\n",
              "  0.09657905250787735,\n",
              "  0.1081632748246193,\n",
              "  0.10041001439094543,\n",
              "  0.10737277567386627,\n",
              "  0.09535398334264755,\n",
              "  0.08888369053602219,\n",
              "  0.10002553462982178,\n",
              "  0.0982721820473671,\n",
              "  0.09605865925550461,\n",
              "  0.0945347473025322,\n",
              "  0.10461331903934479,\n",
              "  0.09327506273984909,\n",
              "  0.08946114033460617,\n",
              "  0.0914975106716156,\n",
              "  0.09998396039009094],\n",
              " 'val_accuracy': [0.7467084527015686,\n",
              "  0.8626959323883057,\n",
              "  0.8714733719825745,\n",
              "  0.8934169411659241,\n",
              "  0.8940438628196716,\n",
              "  0.8733542561531067,\n",
              "  0.8984326124191284,\n",
              "  0.9040752053260803,\n",
              "  0.9134796261787415,\n",
              "  0.8952978253364563,\n",
              "  0.9134796261787415,\n",
              "  0.9072100520133972,\n",
              "  0.8915360569953918,\n",
              "  0.8909090757369995,\n",
              "  0.9134796261787415,\n",
              "  0.9078369736671448,\n",
              "  0.9141066074371338,\n",
              "  0.9015673995018005,\n",
              "  0.9034482836723328,\n",
              "  0.9134796261787415,\n",
              "  0.9159874320030212,\n",
              "  0.9134796261787415,\n",
              "  0.9122257232666016,\n",
              "  0.9178683161735535,\n",
              "  0.9021943807601929,\n",
              "  0.9134796261787415,\n",
              "  0.9128526449203491,\n",
              "  0.9166144132614136,\n",
              "  0.9059560894966125,\n",
              "  0.9153605103492737,\n",
              "  0.9065830707550049,\n",
              "  0.9141066074371338,\n",
              "  0.909717857837677,\n",
              "  0.905329167842865,\n",
              "  0.9047021865844727,\n",
              "  0.9166144132614136,\n",
              "  0.9028213024139404,\n",
              "  0.9128526449203491,\n",
              "  0.909717857837677,\n",
              "  0.9090909361839294,\n",
              "  0.9178683161735535,\n",
              "  0.9172413945198059,\n",
              "  0.9235109686851501,\n",
              "  0.9090909361839294,\n",
              "  0.9072100520133972,\n",
              "  0.9122257232666016,\n",
              "  0.9103448390960693,\n",
              "  0.909717857837677,\n",
              "  0.9147335290908813,\n",
              "  0.9115987420082092,\n",
              "  0.9122257232666016,\n",
              "  0.9134796261787415,\n",
              "  0.9078369736671448,\n",
              "  0.9090909361839294,\n",
              "  0.9122257232666016,\n",
              "  0.9210031628608704,\n",
              "  0.9122257232666016,\n",
              "  0.9166144132614136,\n",
              "  0.909717857837677,\n",
              "  0.9141066074371338],\n",
              " 'val_loss': [0.6793213486671448,\n",
              "  0.36222413182258606,\n",
              "  0.3254443407058716,\n",
              "  0.286189466714859,\n",
              "  0.2864435315132141,\n",
              "  0.31813082098960876,\n",
              "  0.266634076833725,\n",
              "  0.2419116050004959,\n",
              "  0.22937221825122833,\n",
              "  0.26212188601493835,\n",
              "  0.2319236397743225,\n",
              "  0.24353894591331482,\n",
              "  0.2693859040737152,\n",
              "  0.28416574001312256,\n",
              "  0.21815364062786102,\n",
              "  0.214485764503479,\n",
              "  0.21591287851333618,\n",
              "  0.24615640938282013,\n",
              "  0.2302233725786209,\n",
              "  0.24249613285064697,\n",
              "  0.21142174303531647,\n",
              "  0.2366357445716858,\n",
              "  0.2230805903673172,\n",
              "  0.21748414635658264,\n",
              "  0.25836509466171265,\n",
              "  0.2238718867301941,\n",
              "  0.23742149770259857,\n",
              "  0.21426843106746674,\n",
              "  0.2697219252586365,\n",
              "  0.23687952756881714,\n",
              "  0.2442694455385208,\n",
              "  0.2234451174736023,\n",
              "  0.2502729296684265,\n",
              "  0.2568618059158325,\n",
              "  0.257720947265625,\n",
              "  0.24150915443897247,\n",
              "  0.2496858835220337,\n",
              "  0.22914382815361023,\n",
              "  0.2551896274089813,\n",
              "  0.24741147458553314,\n",
              "  0.2491096556186676,\n",
              "  0.220829039812088,\n",
              "  0.23360344767570496,\n",
              "  0.2576468586921692,\n",
              "  0.2546921968460083,\n",
              "  0.25693121552467346,\n",
              "  0.24390791356563568,\n",
              "  0.2647567093372345,\n",
              "  0.23812837898731232,\n",
              "  0.25002846121788025,\n",
              "  0.26117005944252014,\n",
              "  0.24226699769496918,\n",
              "  0.2309897094964981,\n",
              "  0.2345723956823349,\n",
              "  0.24781319499015808,\n",
              "  0.22136245667934418,\n",
              "  0.2273281365633011,\n",
              "  0.2279452383518219,\n",
              "  0.2438688725233078,\n",
              "  0.22599177062511444]}"
            ]
          },
          "execution_count": 49,
          "metadata": {},
          "output_type": "execute_result"
        }
      ],
      "source": [
        "\n",
        "max_features = max_features\n",
        "embedding_dim = 64\n",
        "cnn_bilstm_model(drop_out=0.5, filter_one=128, filter_two=64, last_dense=64, padding='same', num_epochs=60)"
      ]
    },
    {
      "cell_type": "code",
      "execution_count": null,
      "id": "a8h2aRV2RK9O",
      "metadata": {
        "id": "a8h2aRV2RK9O"
      },
      "outputs": [],
      "source": [
        "os.chdir('/content/gdrive/MyDrive/ColabNotebooks/')"
      ]
    },
    {
      "cell_type": "code",
      "execution_count": null,
      "id": "IqEKWi-AN5aV",
      "metadata": {
        "colab": {
          "base_uri": "https://localhost:8080/"
        },
        "id": "IqEKWi-AN5aV",
        "outputId": "5d5729bc-e787-4b00-d323-f6b85822d130"
      },
      "outputs": [
        {
          "name": "stdout",
          "output_type": "stream",
          "text": [
            " all_source111.tsv     'Multi-Class Text Classification with LSTM TDI  .ipynb'\n",
            " DL-char-ngrams.ipynb  'Text Classification with LSTM TDI .ipynb'\n"
          ]
        }
      ],
      "source": [
        "!ls /content/gdrive/MyDrive/ColabNotebooks/"
      ]
    }
  ],
  "metadata": {
    "accelerator": "TPU",
    "colab": {
      "gpuType": "V28",
      "provenance": [],
      "include_colab_link": true
    },
    "kernelspec": {
      "display_name": "Python 3",
      "language": "python",
      "name": "python3"
    }
  },
  "nbformat": 4,
  "nbformat_minor": 5
}